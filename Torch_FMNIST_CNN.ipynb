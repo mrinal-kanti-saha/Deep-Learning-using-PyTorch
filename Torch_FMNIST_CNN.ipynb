{
  "cells": [
    {
      "cell_type": "markdown",
      "metadata": {
        "id": "fcUJ1X21p3oa"
      },
      "source": [
        "# FMNIST Classification using CNN"
      ]
    },
    {
      "cell_type": "markdown",
      "metadata": {
        "id": "tfp5MXnQIZEY"
      },
      "source": [
        "### About the Dataset\n",
        "\n",
        "Fashion-MNIST is a dataset of Zalando's article images—consisting of a training set of 60,000 examples and a test set of 10,000 examples. Each example is a 28x28 grayscale image, associated with a label from 10 classes. We intend Fashion-MNIST to serve as a direct drop-in replacement for the original MNIST dataset for benchmarking machine learning algorithms. It shares the same image size and structure of training and testing splits. \n",
        "[More info.](https://github.com/zalandoresearch/fashion-mnist)\n",
        "\n",
        "### Why Fashion-MNIST over MNIST?\n",
        "- MNIST is too easy. Convolutional nets can achieve 99.7% on MNIST. Classic machine learning algorithms can also achieve 97% easily.\n",
        "- MNIST is overused.\n",
        "- MNIST can not represent modern CV tasks."
      ]
    },
    {
      "cell_type": "markdown",
      "metadata": {
        "id": "ARlsBmU3EB3n"
      },
      "source": [
        "Let's now get going with it."
      ]
    },
    {
      "cell_type": "markdown",
      "metadata": {
        "id": "7ZdTqJ4F0qPh"
      },
      "source": [
        "## 1. Importing packages."
      ]
    },
    {
      "cell_type": "code",
      "execution_count": 1,
      "metadata": {
        "id": "J58oi95Ipy6B"
      },
      "outputs": [],
      "source": [
        "import numpy as np\n",
        "import matplotlib.pyplot as plt\n",
        "import seaborn as sns\n",
        "\n",
        "import torch\n",
        "import torch.nn as nn\n",
        "import torch.optim as optim\n",
        "import torch.nn.functional as F\n",
        "\n",
        "import torchvision\n",
        "import torchvision.transforms as transforms\n",
        "import torchvision.datasets as datasets"
      ]
    },
    {
      "cell_type": "markdown",
      "metadata": {
        "id": "OthzVO7m0xmo"
      },
      "source": [
        "## 2. Downloading Dataset and applying Transformations."
      ]
    },
    {
      "cell_type": "code",
      "execution_count": 2,
      "metadata": {
        "id": "7SGXjn_sqMsw"
      },
      "outputs": [],
      "source": [
        "# defining the transformations (converting the image into tensors).\n",
        "transform = transforms.Compose([transforms.ToTensor()])"
      ]
    },
    {
      "cell_type": "markdown",
      "metadata": {
        "id": "g9faBqTWEvRB"
      },
      "source": [
        "The Dataset could have been normalised, but as all the pixel values(features) range from 0 to 255, normalising the data doesn't seem necessary."
      ]
    },
    {
      "cell_type": "code",
      "execution_count": 3,
      "metadata": {
        "id": "WaJ159FBubLW",
        "colab": {
          "base_uri": "https://localhost:8080/",
          "height": 423,
          "referenced_widgets": [
            "11e104d3f6ea4aa19c3db3fcf06f472f",
            "34abb3b803414d718ca85479b36fa421",
            "ca8c6de472464fdc9534608bba097a6c",
            "af83a90288f9401cb74080184ce5d890",
            "5583b13d410e46b5a4f8e75d268f51c9",
            "db0b61167fd845e9a68a923d1bdb722b",
            "d7c45f6765f7411a86696c8de92b8ebe",
            "4bef0a1f59d34ef3a0e73631c5907ae6",
            "774d9930549d4f73b8203b3f16afd925",
            "fb3c1bbbefb24cd8bb86a5590159760d",
            "f9d8e9bfb2904ba6967f3e83013c81c9",
            "99831a60eefa41ed9857b9ca494c5c09",
            "30b55e5c5653466fa14b65f00ce462d8",
            "46d5153552a245438b8d9dc233aa4ea6",
            "6ac7851dc08a46a9a145b5c7b319419b",
            "1c3c05269873460591d74bef6e8e9f36",
            "0b0b886047d6462e8563ba8780436fae",
            "7e4e5e441e604d0b8c5781f1961f383d",
            "2357e29016f445f0ac005f9e499fe3f8",
            "565da4e9df144abb82a7dacf6072654a",
            "9bef504210ac418aac632d5a54bd50e2",
            "7805020c8d964c3d9480d690460f89c0",
            "3bcf7dfc9e4a4f389d236006b6a9340c",
            "db16027352f3418f8e2c29e467a69472",
            "2a96c51d5b044f86b3cca6e12be9c264",
            "b711b0857d8d458383059511e477859e",
            "ac30b0a01cae4e51af75191ae4ea3197",
            "0b06911b31c643fb9cb3623ff835b82e",
            "d78512e4cb794084a2970f394ee9854e",
            "b2a7e341ce264ec9968377a9c627d03f",
            "f3ec6831d6e847cd91cc9b32ad4b9195",
            "7521941acd5347b0998785f3ddd019cb",
            "d3abcd2b337241b98abfa297ede89541",
            "a9e7df3cdd634714ba7038070316bfc0",
            "ff66794a2a6d4d35b011c50fc1d9f0f8",
            "ade31883e0a34c0c828e3ea7ca326359",
            "774f15785bad41a8b2955b362993978e",
            "d4b5c16d7388449d8c73adbba24ed769",
            "d24e8e51bca348e1900588236b3596f3",
            "f992fc961b1f433aac11d489561c3842",
            "3b141196da9b4bbdb99d25ec7411e4e6",
            "02dc0f3fec274b12a3dafa213362a4cd",
            "e025eed65f2941708cccbee81187679c",
            "20bf5d7fdbf1420b9be5ea375fe0ce66"
          ]
        },
        "outputId": "e51539aa-a147-479b-cfbf-764d96f34e33"
      },
      "outputs": [
        {
          "output_type": "stream",
          "name": "stdout",
          "text": [
            "Downloading http://fashion-mnist.s3-website.eu-central-1.amazonaws.com/train-images-idx3-ubyte.gz\n",
            "Downloading http://fashion-mnist.s3-website.eu-central-1.amazonaws.com/train-images-idx3-ubyte.gz to ./data/FMNIST/FashionMNIST/raw/train-images-idx3-ubyte.gz\n"
          ]
        },
        {
          "output_type": "display_data",
          "data": {
            "text/plain": [
              "  0%|          | 0/26421880 [00:00<?, ?it/s]"
            ],
            "application/vnd.jupyter.widget-view+json": {
              "version_major": 2,
              "version_minor": 0,
              "model_id": "11e104d3f6ea4aa19c3db3fcf06f472f"
            }
          },
          "metadata": {}
        },
        {
          "output_type": "stream",
          "name": "stdout",
          "text": [
            "Extracting ./data/FMNIST/FashionMNIST/raw/train-images-idx3-ubyte.gz to ./data/FMNIST/FashionMNIST/raw\n",
            "\n",
            "Downloading http://fashion-mnist.s3-website.eu-central-1.amazonaws.com/train-labels-idx1-ubyte.gz\n",
            "Downloading http://fashion-mnist.s3-website.eu-central-1.amazonaws.com/train-labels-idx1-ubyte.gz to ./data/FMNIST/FashionMNIST/raw/train-labels-idx1-ubyte.gz\n"
          ]
        },
        {
          "output_type": "display_data",
          "data": {
            "text/plain": [
              "  0%|          | 0/29515 [00:00<?, ?it/s]"
            ],
            "application/vnd.jupyter.widget-view+json": {
              "version_major": 2,
              "version_minor": 0,
              "model_id": "99831a60eefa41ed9857b9ca494c5c09"
            }
          },
          "metadata": {}
        },
        {
          "output_type": "stream",
          "name": "stdout",
          "text": [
            "Extracting ./data/FMNIST/FashionMNIST/raw/train-labels-idx1-ubyte.gz to ./data/FMNIST/FashionMNIST/raw\n",
            "\n",
            "Downloading http://fashion-mnist.s3-website.eu-central-1.amazonaws.com/t10k-images-idx3-ubyte.gz\n",
            "Downloading http://fashion-mnist.s3-website.eu-central-1.amazonaws.com/t10k-images-idx3-ubyte.gz to ./data/FMNIST/FashionMNIST/raw/t10k-images-idx3-ubyte.gz\n"
          ]
        },
        {
          "output_type": "display_data",
          "data": {
            "text/plain": [
              "  0%|          | 0/4422102 [00:00<?, ?it/s]"
            ],
            "application/vnd.jupyter.widget-view+json": {
              "version_major": 2,
              "version_minor": 0,
              "model_id": "3bcf7dfc9e4a4f389d236006b6a9340c"
            }
          },
          "metadata": {}
        },
        {
          "output_type": "stream",
          "name": "stdout",
          "text": [
            "Extracting ./data/FMNIST/FashionMNIST/raw/t10k-images-idx3-ubyte.gz to ./data/FMNIST/FashionMNIST/raw\n",
            "\n",
            "Downloading http://fashion-mnist.s3-website.eu-central-1.amazonaws.com/t10k-labels-idx1-ubyte.gz\n",
            "Downloading http://fashion-mnist.s3-website.eu-central-1.amazonaws.com/t10k-labels-idx1-ubyte.gz to ./data/FMNIST/FashionMNIST/raw/t10k-labels-idx1-ubyte.gz\n"
          ]
        },
        {
          "output_type": "display_data",
          "data": {
            "text/plain": [
              "  0%|          | 0/5148 [00:00<?, ?it/s]"
            ],
            "application/vnd.jupyter.widget-view+json": {
              "version_major": 2,
              "version_minor": 0,
              "model_id": "a9e7df3cdd634714ba7038070316bfc0"
            }
          },
          "metadata": {}
        },
        {
          "output_type": "stream",
          "name": "stdout",
          "text": [
            "Extracting ./data/FMNIST/FashionMNIST/raw/t10k-labels-idx1-ubyte.gz to ./data/FMNIST/FashionMNIST/raw\n",
            "\n"
          ]
        }
      ],
      "source": [
        "# trainset and testset\n",
        "train_set = datasets.FashionMNIST(\n",
        "    root = './data/FMNIST',\n",
        "    train = True,\n",
        "    download = True,\n",
        "    transform = transform\n",
        ")\n",
        "\n",
        "test_set = datasets.FashionMNIST(\n",
        "    root = './data/FMNIST',\n",
        "    train = False,\n",
        "    download = True,\n",
        "    transform = transform\n",
        ")"
      ]
    },
    {
      "cell_type": "code",
      "execution_count": 4,
      "metadata": {
        "colab": {
          "base_uri": "https://localhost:8080/"
        },
        "id": "I8p7RIoREB3q",
        "outputId": "3a640cd1-42ff-4d1b-e871-be3016448122"
      },
      "outputs": [
        {
          "output_type": "stream",
          "name": "stdout",
          "text": [
            "Train set : 60000\n",
            "Test set : 10000\n"
          ]
        }
      ],
      "source": [
        "print(f'Train set : {len(train_set)}')\n",
        "print(f'Test set : {len(test_set)}')"
      ]
    },
    {
      "cell_type": "markdown",
      "metadata": {
        "id": "jDe1TNTFFIj_"
      },
      "source": [
        "## 3. Exploring the data"
      ]
    },
    {
      "cell_type": "code",
      "execution_count": 5,
      "metadata": {
        "id": "EX2LkllAzC7t"
      },
      "outputs": [],
      "source": [
        "from torch.utils.data import DataLoader\n",
        "# Loading data into a DataLoader of batch size 64\n",
        "train_loader = DataLoader(train_set, batch_size=64, shuffle=True)"
      ]
    },
    {
      "cell_type": "code",
      "execution_count": 6,
      "metadata": {
        "id": "JTRVve5ZvP66"
      },
      "outputs": [],
      "source": [
        "# Unpacking the images and labels of a batch\n",
        "images, labels = next(iter(train_loader))"
      ]
    },
    {
      "cell_type": "markdown",
      "metadata": {
        "id": "hsl2sgjzHAVf"
      },
      "source": [
        "Let's check the shapes of our images and labels."
      ]
    },
    {
      "cell_type": "code",
      "execution_count": 7,
      "metadata": {
        "colab": {
          "base_uri": "https://localhost:8080/"
        },
        "id": "IVP1JVM4GUse",
        "outputId": "7f6cf478-7e4e-4ed4-b82b-9c76b9e46576"
      },
      "outputs": [
        {
          "output_type": "stream",
          "name": "stdout",
          "text": [
            "Images' Shape :  torch.Size([64, 1, 28, 28])\n",
            "Labels' Shape :  torch.Size([64])\n"
          ]
        }
      ],
      "source": [
        "print(\"Images' Shape : \", images.shape)\n",
        "print(\"Labels' Shape : \", labels.shape)"
      ]
    },
    {
      "cell_type": "markdown",
      "metadata": {
        "id": "0aNFVIlGHmwY"
      },
      "source": [
        "The shape of the `images` tensor denotes the no of training examples in the batch, the no of color channels in the batch, and finally the height and width of every image.\n",
        "\n",
        "The shape of the `labels` tensor is 64, as the labels contains the digit corresponding to the fashion item(ground-truth) for every single image in the dataset."
      ]
    },
    {
      "cell_type": "markdown",
      "metadata": {
        "id": "saNtFBVUEB3t"
      },
      "source": [
        "Let's see what the numbers in the labels in the dataset represent."
      ]
    },
    {
      "cell_type": "markdown",
      "metadata": {
        "id": "1OV-GmqxEB3t"
      },
      "source": [
        "<table>\n",
        "<thead>\n",
        "<tr>\n",
        "<th>Label</th>\n",
        "<th>Description</th>\n",
        "</tr>\n",
        "</thead>\n",
        "<tbody>\n",
        "<tr>\n",
        "<td>0</td>\n",
        "<td>T-shirt/top</td>\n",
        "</tr>\n",
        "<tr>\n",
        "<td>1</td>\n",
        "<td>Trouser</td>\n",
        "</tr>\n",
        "<tr>\n",
        "<td>2</td>\n",
        "<td>Pullover</td>\n",
        "</tr>\n",
        "<tr>\n",
        "<td>3</td>\n",
        "<td>Dress</td>\n",
        "</tr>\n",
        "<tr>\n",
        "<td>4</td>\n",
        "<td>Coat</td>\n",
        "</tr>\n",
        "<tr>\n",
        "<td>5</td>\n",
        "<td>Sandal</td>\n",
        "</tr>\n",
        "<tr>\n",
        "<td>6</td>\n",
        "<td>Shirt</td>\n",
        "</tr>\n",
        "<tr>\n",
        "<td>7</td>\n",
        "<td>Sneaker</td>\n",
        "</tr>\n",
        "<tr>\n",
        "<td>8</td>\n",
        "<td>Bag</td>\n",
        "</tr>\n",
        "<tr>\n",
        "<td>9</td>\n",
        "<td>Ankle boot</td>\n",
        "</tr>\n",
        "</tbody>\n",
        "</table>"
      ]
    },
    {
      "cell_type": "code",
      "execution_count": 8,
      "metadata": {
        "id": "DyN_-hspwN66"
      },
      "outputs": [],
      "source": [
        "# dictionary mapping item numbers to item names\n",
        "fashion_dict = {0 : \"T-shirt/top\", 1: \"Trouser\", 2: \"Pullover\", 3: \"Dress\", 4: \"Coat\", 5: \"Sandal\", 6: \"Shirt\", 7: \"Sneaker\", 8: \"Bag\", 9: \"Ankle Boot\"}"
      ]
    },
    {
      "cell_type": "markdown",
      "metadata": {
        "id": "XYHMiFaKUeHr"
      },
      "source": [
        "Let's now see how the images look like along with their truth labels."
      ]
    },
    {
      "cell_type": "code",
      "execution_count": 9,
      "metadata": {
        "colab": {
          "base_uri": "https://localhost:8080/",
          "height": 934
        },
        "id": "Uuk_nnByKN5v",
        "outputId": "5feb50dd-05ae-4025-b66d-9a7d11867cb9"
      },
      "outputs": [
        {
          "output_type": "display_data",
          "data": {
            "text/plain": [
              "<Figure size 1152x1152 with 16 Axes>"
            ],
            "image/png": "[encoded data removed]"
          },
          "metadata": {
            "needs_background": "light"
          }
        }
      ],
      "source": [
        "from IPython.core.pylabtools import figsize\n",
        "# creating subplots 4x4 grid\n",
        "fig, ax = plt.subplots(4,4, figsize=(16,16))\n",
        "\n",
        "index = 0\n",
        "for i in range(4):\n",
        "    for j in range(4):\n",
        "        ax[i,j].imshow(images[index].squeeze(), cmap='Greys')\n",
        "        ax[i,j].set_title(f'Truth Label : {fashion_dict[labels[index].item()]}')\n",
        "        index+=1"
      ]
    },
    {
      "cell_type": "markdown",
      "metadata": {
        "id": "a4hgzfLuLW-n"
      },
      "source": [
        "## 4. Designing the Convolutional Neural Network"
      ]
    },
    {
      "cell_type": "markdown",
      "metadata": {
        "id": "KII2S4PnUeHs"
      },
      "source": [
        "The first convolutional layer takes in the original 28x28 and uses a `kernel` of size (5,5) which reduces the dimension of the new image to 24x24, followed by a `relu`, followed by `maxpooling` which in our case reduces the image dimensions further down by half to 12x12.\n",
        "The `channels` are changed from 1 to 32.\n",
        "\n",
        "The second convolutional layer does pretty much the same, further reducing the dimension to 4x4, and the channels from 32 to 64.\n",
        "\n",
        "The image, thus obtained is `flattened` before sending it to the linear layers.\n",
        "\n",
        "Next, it consists of 2 hidden layer with 128 and 64 neurons respectively.\n",
        "And, finally an output layer with 10 neurons (= no of output classes)."
      ]
    },
    {
      "cell_type": "code",
      "execution_count": 10,
      "metadata": {
        "id": "hr6uuvggUeHs"
      },
      "outputs": [],
      "source": [
        "# no of neurons in respective layers\n",
        "output_sizes = 10\n",
        "conv_channels = [32, 64]\n",
        "hidden_sizes = [128, 64]"
      ]
    },
    {
      "cell_type": "code",
      "execution_count": 11,
      "metadata": {
        "id": "OkRE_DzYUeHs"
      },
      "outputs": [],
      "source": [
        "class CNN(nn.Module):\n",
        "    def __init__(self):\n",
        "        super(CNN, self).__init__()\n",
        "        # greyscale, hence in_channels = 1\n",
        "        self.conv1 = nn.Conv2d(in_channels=1, out_channels=conv_channels[0], kernel_size=5)                 # 1 -> 32\n",
        "        self.conv2 = nn.Conv2d(in_channels=conv_channels[0], out_channels=conv_channels[1], kernel_size=5)  # 32 -> 64\n",
        "        # image dimensions changing\n",
        "        # 28 - 5 + 1 = 24, 24/2 = 12 (max pool), 12 - 5 + 1 = 8, 8/2 = 4 (max pool) \n",
        "        # therefore, in_features = 12 (channels) * 4*4 (image dimensions)\n",
        "        self.linear1 = nn.Linear(in_features=conv_channels[1]*4*4, out_features=hidden_sizes[0])            # 64*4*4 -> 128\n",
        "        self.linear2 = nn.Linear(in_features=hidden_sizes[0], out_features=hidden_sizes[1])                 # 128 -> 64\n",
        "        self.out = nn.Linear(in_features=hidden_sizes[1], out_features=output_sizes)                        # 64  -> 10\n",
        "        \n",
        "    def forward(self, t):\n",
        "        # (1) input layer\n",
        "        t = t \n",
        "        \n",
        "        # (2) conv1 layer\n",
        "        t = self.conv1(t)\n",
        "        t = F.relu(t)\n",
        "        t = F.max_pool2d(t, kernel_size=2, stride=2)\n",
        "\n",
        "        # (3) conv2 layer\n",
        "        t = self.conv2(t)\n",
        "        t = F.relu(t)\n",
        "        t = F.max_pool2d(t, kernel_size=2, stride=2)\n",
        "\n",
        "        # (4) linear layer 1\n",
        "        t = t.reshape(-1, conv_channels[1]*4*4)\n",
        "        t = self.linear1(t)\n",
        "        t = F.relu(t)\n",
        "        \n",
        "        # (5) linear layer 2\n",
        "        t = self.linear2(t)\n",
        "        t = F.relu(t)\n",
        "        \n",
        "        # (6) output layer\n",
        "        t = self.out(t)\n",
        "        \n",
        "        return t"
      ]
    },
    {
      "cell_type": "markdown",
      "metadata": {
        "id": "6vSyx38sUeHt"
      },
      "source": [
        "Inside the network we usually use `relu()` as our non-linear activation function, but for the output layer, whenever we have a single category that we are trying to predict, we use `softmax()`. The softmax function returns a positive probability for each of the prediction classes, and the probabilities sum to 1.\n",
        "However, in our case, we won't use `softmax()` because the loss function that we'll use, `nn.CrossEntropyLoss()`, implicitly performs the `softmax()` operation on its input, so we'll just return the result of the last linear transformation."
      ]
    },
    {
      "cell_type": "code",
      "execution_count": 12,
      "metadata": {
        "id": "rzJe34oIUeHs"
      },
      "outputs": [],
      "source": [
        "device = 'cuda' if torch.cuda.is_available() else 'cpu'\n",
        "network_trial = CNN().to(device)"
      ]
    },
    {
      "cell_type": "code",
      "execution_count": 13,
      "metadata": {
        "colab": {
          "base_uri": "https://localhost:8080/"
        },
        "id": "f6vFrPcfUeHt",
        "outputId": "4df10177-2c9e-4e6e-f9ca-8cc5e00b1d14"
      },
      "outputs": [
        {
          "output_type": "stream",
          "name": "stdout",
          "text": [
            "CNN(\n",
            "  (conv1): Conv2d(1, 32, kernel_size=(5, 5), stride=(1, 1))\n",
            "  (conv2): Conv2d(32, 64, kernel_size=(5, 5), stride=(1, 1))\n",
            "  (linear1): Linear(in_features=1024, out_features=128, bias=True)\n",
            "  (linear2): Linear(in_features=128, out_features=64, bias=True)\n",
            "  (out): Linear(in_features=64, out_features=10, bias=True)\n",
            ")\n"
          ]
        }
      ],
      "source": [
        "print(network_trial)"
      ]
    },
    {
      "cell_type": "code",
      "source": [
        "# print the summary of the network\n",
        "from torchsummary import summary\n",
        "summary(network_trial, input_size=(1, 28, 28))"
      ],
      "metadata": {
        "colab": {
          "base_uri": "https://localhost:8080/"
        },
        "id": "j9zxwXefaXv1",
        "outputId": "c9fb65aa-0512-45b3-d289-8fe50de6f981"
      },
      "execution_count": 14,
      "outputs": [
        {
          "output_type": "stream",
          "name": "stdout",
          "text": [
            "----------------------------------------------------------------\n",
            "        Layer (type)               Output Shape         Param #\n",
            "================================================================\n",
            "            Conv2d-1           [-1, 32, 24, 24]             832\n",
            "            Conv2d-2             [-1, 64, 8, 8]          51,264\n",
            "            Linear-3                  [-1, 128]         131,200\n",
            "            Linear-4                   [-1, 64]           8,256\n",
            "            Linear-5                   [-1, 10]             650\n",
            "================================================================\n",
            "Total params: 192,202\n",
            "Trainable params: 192,202\n",
            "Non-trainable params: 0\n",
            "----------------------------------------------------------------\n",
            "Input size (MB): 0.00\n",
            "Forward/backward pass size (MB): 0.17\n",
            "Params size (MB): 0.73\n",
            "Estimated Total Size (MB): 0.91\n",
            "----------------------------------------------------------------\n"
          ]
        }
      ]
    },
    {
      "cell_type": "markdown",
      "metadata": {
        "id": "CrRog7FZUeHt"
      },
      "source": [
        "## 5. The Training Process"
      ]
    },
    {
      "cell_type": "code",
      "execution_count": 15,
      "metadata": {
        "id": "eHmKAaH3UeHu"
      },
      "outputs": [],
      "source": [
        "def get_num_correct(pred, labels):\n",
        "    '''Returns number of labels predicted corrected'''\n",
        "    return pred.argmax(dim=1).eq(labels).sum().item()"
      ]
    },
    {
      "cell_type": "markdown",
      "metadata": {
        "id": "0IuWp_WAUeHu"
      },
      "source": [
        "Getting ready for the training process, setting `hyperparameters`, `loss function` and `optimizer`.\\\n",
        "We will be trying out various values of our Hyperparameters, `learning_rates`, `batch_sizes`, `shuffle` and `devices` to get the best model."
      ]
    },
    {
      "cell_type": "code",
      "execution_count": 16,
      "metadata": {
        "id": "O1vwjqSieFkP"
      },
      "outputs": [],
      "source": [
        "from itertools import product\n",
        "\n",
        "parameters = dict(\n",
        "    lr = [.01, .001],\n",
        "    batch_size = [100, 1000],\n",
        "    shuffle = [True]\n",
        ")\n",
        "epochs = 20\n",
        "param_values = [v for v in parameters.values()]\n",
        "\n",
        "device = 'cuda' if torch.cuda.is_available() else 'cpu'\n",
        "\n",
        "# selecting the loss function\n",
        "criterion = nn.CrossEntropyLoss()\n",
        "\n",
        "# creating a list of model for various sets of hyperparameter combination\n",
        "networks = []"
      ]
    },
    {
      "cell_type": "markdown",
      "metadata": {
        "id": "iP4zgHnfUeHu"
      },
      "source": [
        "#### The Training Loop"
      ]
    },
    {
      "cell_type": "markdown",
      "metadata": {
        "id": "M-LbPEOCUeHu"
      },
      "source": [
        "The images have to be flattened out before feeding it to the CNN. Then, the batch is fed into the network. The outputs of the network is fed into the loss function with the truth labels. Then, the old gradients (from the previous iterations) are forced to 0 and backprop starts. The optimizer updates the weights at each iteration."
      ]
    },
    {
      "cell_type": "code",
      "source": [
        "torch.manual_seed(42)"
      ],
      "metadata": {
        "colab": {
          "base_uri": "https://localhost:8080/"
        },
        "id": "du9Z12xR3aYP",
        "outputId": "fb44c332-112c-466e-a61e-7bbb1dc2bbd4"
      },
      "execution_count": 17,
      "outputs": [
        {
          "output_type": "execute_result",
          "data": {
            "text/plain": [
              "<torch._C.Generator at 0x7f42d37d0d90>"
            ]
          },
          "metadata": {},
          "execution_count": 17
        }
      ]
    },
    {
      "cell_type": "code",
      "execution_count": 18,
      "metadata": {
        "colab": {
          "base_uri": "https://localhost:8080/"
        },
        "id": "Ib-lxsZZzMQb",
        "outputId": "399edc1e-4f0f-42d4-db6a-bfacb80c88ea"
      },
      "outputs": [
        {
          "output_type": "stream",
          "name": "stdout",
          "text": [
            "\n",
            "Model 0 : Batch size : 100, Learning Rate : 0.01 Shuffle : True\n",
            "\n",
            "Epoch 0 - Training Loss : 0.4946302583316962, Accuracy : 0.8142333333333334\n",
            "Epoch 1 - Training Loss : 0.3462678442398707, Accuracy : 0.8733166666666666\n",
            "Epoch 2 - Training Loss : 0.31941358639548223, Accuracy : 0.8823\n",
            "Epoch 3 - Training Loss : 0.29967345513403415, Accuracy : 0.8888833333333334\n",
            "Epoch 4 - Training Loss : 0.29633087436358135, Accuracy : 0.8925666666666666\n",
            "Epoch 5 - Training Loss : 0.28095711935311557, Accuracy : 0.8966166666666666\n",
            "Epoch 6 - Training Loss : 0.2716044185558955, Accuracy : 0.8998666666666667\n",
            "Epoch 7 - Training Loss : 0.2760137009620667, Accuracy : 0.89945\n",
            "Epoch 8 - Training Loss : 0.27183501119414966, Accuracy : 0.9012166666666667\n",
            "Epoch 9 - Training Loss : 0.27547573260962965, Accuracy : 0.9017\n",
            "Epoch 10 - Training Loss : 0.25628736581653355, Accuracy : 0.9058333333333334\n",
            "Epoch 11 - Training Loss : 0.25366005330036084, Accuracy : 0.9075166666666666\n",
            "Epoch 12 - Training Loss : 0.25896492208043737, Accuracy : 0.9073\n",
            "Epoch 13 - Training Loss : 0.25110594417899845, Accuracy : 0.9100166666666667\n",
            "Epoch 14 - Training Loss : 0.24423600720862548, Accuracy : 0.9118333333333334\n",
            "Epoch 15 - Training Loss : 0.235818559837838, Accuracy : 0.9128166666666667\n",
            "Epoch 16 - Training Loss : 0.25117159698779384, Accuracy : 0.9086833333333333\n",
            "Epoch 17 - Training Loss : 0.24161580813427766, Accuracy : 0.9133666666666667\n",
            "Epoch 18 - Training Loss : 0.23899681314826013, Accuracy : 0.9154666666666667\n",
            "Epoch 19 - Training Loss : 0.25722463324666023, Accuracy : 0.9119833333333334\n",
            "\n",
            "Model 1 : Batch size : 1000, Learning Rate : 0.01 Shuffle : True\n",
            "\n",
            "Epoch 0 - Training Loss : 0.896287118891875, Accuracy : 0.6604333333333333\n",
            "Epoch 1 - Training Loss : 0.39489145775636036, Accuracy : 0.8551333333333333\n",
            "Epoch 2 - Training Loss : 0.3252007578810056, Accuracy : 0.8799\n",
            "Epoch 3 - Training Loss : 0.2861466067532698, Accuracy : 0.8933833333333333\n",
            "Epoch 4 - Training Loss : 0.25507684449354806, Accuracy : 0.90515\n",
            "Epoch 5 - Training Loss : 0.2462418166299661, Accuracy : 0.90835\n",
            "Epoch 6 - Training Loss : 0.22314574271440507, Accuracy : 0.91755\n",
            "Epoch 7 - Training Loss : 0.21152539700269699, Accuracy : 0.92085\n",
            "Epoch 8 - Training Loss : 0.19808025682965916, Accuracy : 0.9259\n",
            "Epoch 9 - Training Loss : 0.18828283349672953, Accuracy : 0.92845\n",
            "Epoch 10 - Training Loss : 0.17591420635581018, Accuracy : 0.93345\n",
            "Epoch 11 - Training Loss : 0.1766271747648716, Accuracy : 0.9340166666666667\n",
            "Epoch 12 - Training Loss : 0.15635579538842043, Accuracy : 0.9410166666666666\n",
            "Epoch 13 - Training Loss : 0.15127153359353543, Accuracy : 0.9426333333333333\n",
            "Epoch 14 - Training Loss : 0.14541955950359503, Accuracy : 0.9441\n",
            "Epoch 15 - Training Loss : 0.1377562925219536, Accuracy : 0.9476333333333333\n",
            "Epoch 16 - Training Loss : 0.13684361229340236, Accuracy : 0.9484666666666667\n",
            "Epoch 17 - Training Loss : 0.1289439495652914, Accuracy : 0.9511333333333334\n",
            "Epoch 18 - Training Loss : 0.12329598441720009, Accuracy : 0.9534166666666667\n",
            "Epoch 19 - Training Loss : 0.11281977867086729, Accuracy : 0.9575\n",
            "\n",
            "Model 2 : Batch size : 100, Learning Rate : 0.001 Shuffle : True\n",
            "\n",
            "Epoch 0 - Training Loss : 0.5974595486869415, Accuracy : 0.7765333333333333\n",
            "Epoch 1 - Training Loss : 0.36253346033394335, Accuracy : 0.8682833333333333\n",
            "Epoch 2 - Training Loss : 0.3080379395683606, Accuracy : 0.8876166666666667\n",
            "Epoch 3 - Training Loss : 0.27092506260921556, Accuracy : 0.9021333333333333\n",
            "Epoch 4 - Training Loss : 0.2455966475730141, Accuracy : 0.9109833333333334\n",
            "Epoch 5 - Training Loss : 0.22552062110354504, Accuracy : 0.9178166666666666\n",
            "Epoch 6 - Training Loss : 0.2064338792177538, Accuracy : 0.9239\n",
            "Epoch 7 - Training Loss : 0.19036802244683107, Accuracy : 0.9302\n",
            "Epoch 8 - Training Loss : 0.17320344761634868, Accuracy : 0.9350666666666667\n",
            "Epoch 9 - Training Loss : 0.15870646382992468, Accuracy : 0.941\n",
            "Epoch 10 - Training Loss : 0.1476337830039362, Accuracy : 0.94535\n",
            "Epoch 11 - Training Loss : 0.135808915241311, Accuracy : 0.9500666666666666\n",
            "Epoch 12 - Training Loss : 0.12473777892068029, Accuracy : 0.95455\n",
            "Epoch 13 - Training Loss : 0.115665558554853, Accuracy : 0.9567833333333333\n",
            "Epoch 14 - Training Loss : 0.10503777476338048, Accuracy : 0.96135\n",
            "Epoch 15 - Training Loss : 0.09775091769173741, Accuracy : 0.96315\n",
            "Epoch 16 - Training Loss : 0.0884085286470751, Accuracy : 0.9666166666666667\n",
            "Epoch 17 - Training Loss : 0.08217009720702965, Accuracy : 0.9692\n",
            "Epoch 18 - Training Loss : 0.07667699825251476, Accuracy : 0.9713666666666667\n",
            "Epoch 19 - Training Loss : 0.07020935980447879, Accuracy : 0.9729833333333333\n",
            "\n",
            "Model 3 : Batch size : 1000, Learning Rate : 0.001 Shuffle : True\n",
            "\n",
            "Epoch 0 - Training Loss : 1.1348418027162552, Accuracy : 0.5827833333333333\n",
            "Epoch 1 - Training Loss : 0.6377724438905716, Accuracy : 0.7552166666666666\n",
            "Epoch 2 - Training Loss : 0.5449846019347508, Accuracy : 0.7991166666666667\n",
            "Epoch 3 - Training Loss : 0.48286565641562146, Accuracy : 0.8262333333333334\n",
            "Epoch 4 - Training Loss : 0.439803579946359, Accuracy : 0.8441833333333333\n",
            "Epoch 5 - Training Loss : 0.40916301906108854, Accuracy : 0.8543333333333333\n",
            "Epoch 6 - Training Loss : 0.38632287085056305, Accuracy : 0.8613\n",
            "Epoch 7 - Training Loss : 0.3709938918550809, Accuracy : 0.8681666666666666\n",
            "Epoch 8 - Training Loss : 0.3510635922352473, Accuracy : 0.8739\n",
            "Epoch 9 - Training Loss : 0.33936056643724444, Accuracy : 0.8789166666666667\n",
            "Epoch 10 - Training Loss : 0.32837450206279756, Accuracy : 0.8831\n",
            "Epoch 11 - Training Loss : 0.31671489775180817, Accuracy : 0.88615\n",
            "Epoch 12 - Training Loss : 0.30660077383120854, Accuracy : 0.8894666666666666\n",
            "Epoch 13 - Training Loss : 0.29731860011816025, Accuracy : 0.8937333333333334\n",
            "Epoch 14 - Training Loss : 0.29340239862600964, Accuracy : 0.8955166666666666\n",
            "Epoch 15 - Training Loss : 0.28357192302743595, Accuracy : 0.8985666666666666\n",
            "Epoch 16 - Training Loss : 0.2751758394141992, Accuracy : 0.9\n",
            "Epoch 17 - Training Loss : 0.27515459557374317, Accuracy : 0.9009\n",
            "Epoch 18 - Training Loss : 0.2691868287821611, Accuracy : 0.9031333333333333\n",
            "Epoch 19 - Training Loss : 0.26103700771927835, Accuracy : 0.90595\n"
          ]
        }
      ],
      "source": [
        "index = 0\n",
        "for lr, batch_size, shuffle in product(*param_values):\n",
        "\n",
        "    print(f'\\nModel {index} : Batch size : {batch_size}, Learning Rate : {lr} Shuffle : {shuffle}\\n')\n",
        "    # using the dataloader to load batches of data\n",
        "    train_loader = DataLoader(train_set, batch_size=batch_size, shuffle=shuffle)\n",
        "    \n",
        "    device = torch.device(device)\n",
        "    network = CNN().to(device)\n",
        "    networks.append(network)\n",
        "    index+=1\n",
        "    \n",
        "    # selecting the optimizer for the loss function\n",
        "    optimizer = optim.Adam(network.parameters(), lr=lr)\n",
        "\n",
        "    for epoch in range(epochs):\n",
        "        total_loss=0\n",
        "        total_correct=0\n",
        "        for batch in train_loader:\n",
        "            images = batch[0].to(device)\n",
        "            labels = batch[1].to(device)\n",
        "            \n",
        "            # Forward Prop\n",
        "            outputs = network(images)\n",
        "            loss = criterion(outputs, labels)\n",
        "            \n",
        "            optimizer.zero_grad() # making previous grads 0\n",
        "            loss.backward() # Calculate Gradients / Back Prop\n",
        "            optimizer.step() # Update Weights\n",
        "            \n",
        "            total_loss += loss.item() # total loss over batches\n",
        "            # the total loss has to be divided by `len(batches)` for the correct value\n",
        "            total_correct += get_num_correct(outputs, labels)\n",
        "        \n",
        "        print(f'Epoch {epoch} - Training Loss : {total_loss/len(train_loader)}, Accuracy : {total_correct / len(train_set)}')"
      ]
    },
    {
      "cell_type": "markdown",
      "metadata": {
        "id": "kVshFzhxUeHv"
      },
      "source": [
        "The training accuracy of the model with `Batch size : 100, Learning Rate : 0.001 Shuffle : True` in `20 epochs` is already `97 %`. The model seems to be good enough."
      ]
    },
    {
      "cell_type": "code",
      "execution_count": 19,
      "metadata": {
        "id": "SBDjx9rzEB3x",
        "colab": {
          "base_uri": "https://localhost:8080/"
        },
        "outputId": "7e2c839a-2bc4-4e79-bceb-ccab8efc2992"
      },
      "outputs": [
        {
          "output_type": "execute_result",
          "data": {
            "text/plain": [
              "CNN(\n",
              "  (conv1): Conv2d(1, 32, kernel_size=(5, 5), stride=(1, 1))\n",
              "  (conv2): Conv2d(32, 64, kernel_size=(5, 5), stride=(1, 1))\n",
              "  (linear1): Linear(in_features=1024, out_features=128, bias=True)\n",
              "  (linear2): Linear(in_features=128, out_features=64, bias=True)\n",
              "  (out): Linear(in_features=64, out_features=10, bias=True)\n",
              ")"
            ]
          },
          "metadata": {},
          "execution_count": 19
        }
      ],
      "source": [
        "networks[2]"
      ]
    },
    {
      "cell_type": "markdown",
      "metadata": {
        "id": "pmlKk4uaEB3x"
      },
      "source": [
        "Let's evaluate the `Model 2` on the test set now."
      ]
    },
    {
      "cell_type": "markdown",
      "metadata": {
        "id": "UAYXVyGOUeHv"
      },
      "source": [
        "## 6. Evaluating the network\n",
        "\n",
        "Using the test_loader to generate batches of test data and test the `Model 2` with it."
      ]
    },
    {
      "cell_type": "code",
      "source": [
        "model = networks[2]"
      ],
      "metadata": {
        "id": "_U84ysKwddbV"
      },
      "execution_count": 20,
      "outputs": []
    },
    {
      "cell_type": "code",
      "execution_count": 21,
      "metadata": {
        "id": "TJGj2zbqUeHv"
      },
      "outputs": [],
      "source": [
        "# turning shuffle off to get sequential indices for tracking incorrect prediction in the next \n",
        "test_loader = DataLoader(test_set, batch_size=100, shuffle=False)"
      ]
    },
    {
      "cell_type": "code",
      "execution_count": 22,
      "metadata": {
        "id": "L4VCUNfXUeHx",
        "colab": {
          "base_uri": "https://localhost:8080/"
        },
        "outputId": "06e2f23d-c004-4509-9f4f-40b59923eab7"
      },
      "outputs": [
        {
          "output_type": "stream",
          "name": "stdout",
          "text": [
            "Test Accuracy = 0.9079\n"
          ]
        }
      ],
      "source": [
        "correct_count = 0\n",
        "pred_labels = []\n",
        "\n",
        "for images, labels in test_loader:\n",
        "\n",
        "\n",
        "    for i in range(len(labels)):\n",
        "        # getting individual images in the particular test loader\n",
        "        image = images[i].to(device)\n",
        "        # turning off gradients to save computation\n",
        "        with torch.no_grad():\n",
        "            outputs = model(image) # taking model 2 from list of models\n",
        "            \n",
        "        # squeezing the dimension of the output tensor from [[]] to []\n",
        "        # taking argmax of the output and setting it as the predicted label\n",
        "        pred_label = torch.argmax(outputs.squeeze())\n",
        "        true_label = labels[i].to(device)\n",
        "        \n",
        "        if(true_label == pred_label):\n",
        "            correct_count += 1\n",
        "\n",
        "        pred_labels.append(pred_label.item()) # tracking all the predictions\n",
        "\n",
        "print(\"Test Accuracy =\", (correct_count/len(test_set)))"
      ]
    },
    {
      "cell_type": "markdown",
      "metadata": {
        "id": "i-A_fGnJEB3y"
      },
      "source": [
        "The test accuracy is about `90.8 %` which is great comapred to the ANN which gave train and test accuracy of 92 % and 88 %, but can we do it better, yet?"
      ]
    },
    {
      "cell_type": "markdown",
      "metadata": {
        "id": "fKjRseudSpOm"
      },
      "source": [
        "Let's now see the `confusion matrix` and find out where the model is getting confused."
      ]
    },
    {
      "cell_type": "code",
      "execution_count": 23,
      "metadata": {
        "id": "qmQAPkbDSpOm",
        "colab": {
          "base_uri": "https://localhost:8080/"
        },
        "outputId": "ba639e1f-acbf-4d28-ffc5-4ec1f0742b00"
      },
      "outputs": [
        {
          "output_type": "stream",
          "name": "stdout",
          "text": [
            "[[857   0  11  14   7   2  98   0  11   0]\n",
            " [  4 975   0  15   4   0   0   0   2   0]\n",
            " [ 29   2 808  13  77   0  68   0   3   0]\n",
            " [ 14   2   8 915  44   0  13   0   4   0]\n",
            " [  2   1  22  15 923   0  33   0   3   1]\n",
            " [  0   0   0   0   0 978   0  17   0   5]\n",
            " [ 96   1  41  23  90   0 739   0  10   0]\n",
            " [  0   0   0   0   0   7   0 987   1   5]\n",
            " [  5   0   2   6   4   1   3   2 977   0]\n",
            " [  1   0   0   0   0   5   0  74   0 920]]\n"
          ]
        }
      ],
      "source": [
        "from sklearn.metrics import confusion_matrix\n",
        "confusion_mat = confusion_matrix(test_set.targets.tolist(), pred_labels) \n",
        "print(confusion_mat)"
      ]
    },
    {
      "cell_type": "code",
      "execution_count": 24,
      "metadata": {
        "id": "0XF3oYh0SpOn",
        "colab": {
          "base_uri": "https://localhost:8080/",
          "height": 621
        },
        "outputId": "1c862ad9-d4f3-433b-f15d-56dc949e8dc7"
      },
      "outputs": [
        {
          "output_type": "display_data",
          "data": {
            "text/plain": [
              "<Figure size 1152x720 with 2 Axes>"
            ],
            "image/png": "[encoded data removed]"
          },
          "metadata": {
            "needs_background": "light"
          }
        }
      ],
      "source": [
        "# plotting heatmap for the confusion matrix\n",
        "fig, ax = plt.subplots(figsize=(16,10))\n",
        "sns.heatmap(confusion_mat, annot=True, fmt='.0f', ax=ax, cmap = \"Blues\", square=True)\n",
        "plt.title(\"Confusion Matrix\")\n",
        "plt.xlabel(\"Pred Label\")\n",
        "plt.ylabel(\"True Label\")\n",
        "plt.show()"
      ]
    },
    {
      "cell_type": "markdown",
      "metadata": {
        "id": "BW0BPj42SpOn"
      },
      "source": [
        "We see that :-"
      ]
    },
    {
      "cell_type": "code",
      "source": [
        "# interpret the confusion matrix\n",
        "threshold = 50\n",
        "\n",
        "for i in range(confusion_mat.shape[0]):\n",
        "  for j in range(confusion_mat.shape[1]):\n",
        "    if confusion_mat[i,j] >= threshold and i!=j:\n",
        "      print(f'{fashion_dict[i]} has been wrongly categorized with {fashion_dict[j]}.')"
      ],
      "metadata": {
        "colab": {
          "base_uri": "https://localhost:8080/"
        },
        "id": "s_tCiW14JgwK",
        "outputId": "336791e0-4eb7-4061-a2f8-7d8134f676ab"
      },
      "execution_count": 27,
      "outputs": [
        {
          "output_type": "stream",
          "name": "stdout",
          "text": [
            "T-shirt/top has been wrongly categorized with Shirt.\n",
            "Pullover has been wrongly categorized with Coat.\n",
            "Pullover has been wrongly categorized with Shirt.\n",
            "Shirt has been wrongly categorized with T-shirt/top.\n",
            "Shirt has been wrongly categorized with Coat.\n",
            "Ankle Boot has been wrongly categorized with Sneaker.\n"
          ]
        }
      ]
    },
    {
      "cell_type": "markdown",
      "metadata": {
        "id": "lrx2D4WkSpOn"
      },
      "source": [
        "Well, the results are here. Given an image of dimension 28x28 pixels, it can really be difficult to tell apart such close looking fashion items.\n",
        "\n",
        "The model otherwise performs well enough. Given below is the classification report for the model."
      ]
    },
    {
      "cell_type": "code",
      "source": [
        "from sklearn.metrics import classification_report\n",
        "print(classification_report(test_set.targets.tolist(), pred_labels, target_names = list(fashion_dict.values())))"
      ],
      "metadata": {
        "colab": {
          "base_uri": "https://localhost:8080/"
        },
        "id": "dBF4U5yBJ1ur",
        "outputId": "963e8834-4d52-48a6-bfa0-e4bbe0976bdf"
      },
      "execution_count": 29,
      "outputs": [
        {
          "output_type": "stream",
          "name": "stdout",
          "text": [
            "              precision    recall  f1-score   support\n",
            "\n",
            " T-shirt/top       0.85      0.86      0.85      1000\n",
            "     Trouser       0.99      0.97      0.98      1000\n",
            "    Pullover       0.91      0.81      0.85      1000\n",
            "       Dress       0.91      0.92      0.91      1000\n",
            "        Coat       0.80      0.92      0.86      1000\n",
            "      Sandal       0.98      0.98      0.98      1000\n",
            "       Shirt       0.77      0.74      0.76      1000\n",
            "     Sneaker       0.91      0.99      0.95      1000\n",
            "         Bag       0.97      0.98      0.97      1000\n",
            "  Ankle Boot       0.99      0.92      0.95      1000\n",
            "\n",
            "    accuracy                           0.91     10000\n",
            "   macro avg       0.91      0.91      0.91     10000\n",
            "weighted avg       0.91      0.91      0.91     10000\n",
            "\n"
          ]
        }
      ]
    },
    {
      "cell_type": "markdown",
      "metadata": {
        "id": "K4uU5svopdDi"
      },
      "source": [
        "For now, we are not going deep into Overfitting and Regularization."
      ]
    },
    {
      "cell_type": "markdown",
      "metadata": {
        "id": "F68pGPamuhBR"
      },
      "source": [
        "## 7. Visualizing the incorrect samples\n",
        "Let's see and try to understand where our CNN is making errors."
      ]
    },
    {
      "cell_type": "code",
      "execution_count": 30,
      "metadata": {
        "id": "og5qFdsS3qMM"
      },
      "outputs": [],
      "source": [
        "pred_labels = torch.tensor(pred_labels)\n",
        "\n",
        "# boolean array of test data labels vs predicted labels\n",
        "incorrect = (test_set.targets != pred_labels).tolist()\n",
        "\n",
        "# indexes of incorrect predictions\n",
        "incorrect_indices = [i for i, x in enumerate(incorrect) if x]"
      ]
    },
    {
      "cell_type": "code",
      "execution_count": 33,
      "metadata": {
        "id": "cp-ew2hwuSRy"
      },
      "outputs": [],
      "source": [
        "# sampling only 6 incorrects predictions out of the all incorrects\n",
        "import random\n",
        "random.seed(34)\n",
        "sample_incorrect = random.sample(incorrect_indices, 6)"
      ]
    },
    {
      "cell_type": "code",
      "execution_count": 34,
      "metadata": {
        "id": "Bl23gzJQtQ5p",
        "colab": {
          "base_uri": "https://localhost:8080/",
          "height": 270
        },
        "outputId": "3c0acf40-a7f3-4dd5-9375-b983ba6c52a9"
      },
      "outputs": [
        {
          "output_type": "display_data",
          "data": {
            "text/plain": [
              "<Figure size 1728x288 with 6 Axes>"
            ],
            "image/png": "[encoded data removed]"
          },
          "metadata": {
            "needs_background": "light"
          }
        }
      ],
      "source": [
        "fig, ax = plt.subplots(1,6, figsize=(24,4))\n",
        "index = 0\n",
        "for i in sample_incorrect:\n",
        "        ax[index].imshow(test_set.data[i].squeeze(), cmap='Greys')\n",
        "        ax[index].set_title(f'Truth Label : {fashion_dict[test_set.targets[i].item()]} \\nPredicted Label : {fashion_dict[pred_labels[i].item()]}')\n",
        "        index+=1"
      ]
    },
    {
      "cell_type": "markdown",
      "metadata": {
        "id": "8DFyG5HOLp7x"
      },
      "source": [
        "If we see closely enough, our CNN is making mistakes when the images are close enough, which tells us how well our CNN is performing. The most common handicap being unable to tell shirt and t-shirt, pullover apart, coat and pullover apart, which is what we can by visualizing the confusion matrix. (Obviously, these were just 6 samples out of 855 errors, this might just be a very huge generalization.)"
      ]
    },
    {
      "cell_type": "markdown",
      "metadata": {
        "id": "QsGp_7uHO1PY"
      },
      "source": [
        "## 8. Visualizing Convolutional layer's Outputs (Feature Maps)\n",
        "Let's now visualize what our convolutional layers are doing.\n",
        "First, let's randomly select an image for the purpose and process it through the convolutional layers."
      ]
    },
    {
      "cell_type": "code",
      "execution_count": 39,
      "metadata": {
        "id": "2NcTZE1HPDcA",
        "colab": {
          "base_uri": "https://localhost:8080/",
          "height": 265
        },
        "outputId": "b2370c07-8b5c-4184-e06a-5d3c36b0141d"
      },
      "outputs": [
        {
          "output_type": "display_data",
          "data": {
            "text/plain": [
              "<Figure size 432x288 with 1 Axes>"
            ],
            "image/png": "[encoded data removed]"
          },
          "metadata": {
            "needs_background": "light"
          }
        }
      ],
      "source": [
        "# setting the random seed\n",
        "random.seed(34)\n",
        "# selecting an image randomly\n",
        "index = random.randint(0,10000)\n",
        "# original image\n",
        "image = test_set.data[index]\n",
        "plt.imshow(image, cmap='Greys')\n",
        "\n",
        "# getting the image ready for the convolutional layers\n",
        "image = image.float().unsqueeze(dim=0).cuda()"
      ]
    },
    {
      "cell_type": "code",
      "source": [
        "image.shape"
      ],
      "metadata": {
        "id": "17uryFZDca40",
        "colab": {
          "base_uri": "https://localhost:8080/"
        },
        "outputId": "93a4cd94-9f8d-4e03-86ab-17e3e244ef5c"
      },
      "execution_count": 40,
      "outputs": [
        {
          "output_type": "execute_result",
          "data": {
            "text/plain": [
              "torch.Size([1, 28, 28])"
            ]
          },
          "metadata": {},
          "execution_count": 40
        }
      ]
    },
    {
      "cell_type": "code",
      "execution_count": 41,
      "metadata": {
        "id": "g9AZ1H4KPDZh"
      },
      "outputs": [],
      "source": [
        "# output of the conv layers\n",
        "conv1_out = model.conv1(image)\n",
        "conv2_out = model.conv2(conv1_out)"
      ]
    },
    {
      "cell_type": "code",
      "source": [
        "# bringing the data from gpu to cpu and converting the output of the conv layers to numpy array\n",
        "conv1_imgs = conv1_out.cpu().data.numpy()\n",
        "conv2_imgs = conv2_out.cpu().data.numpy()"
      ],
      "metadata": {
        "id": "JMJUklftd6RU"
      },
      "execution_count": 42,
      "outputs": []
    },
    {
      "cell_type": "markdown",
      "source": [
        "Plotting the feature maps from the Convolutional layers"
      ],
      "metadata": {
        "id": "wFETPkGTjWh0"
      }
    },
    {
      "cell_type": "code",
      "source": [
        "# plotting the feature maps from the 1st Convolutional layer\n",
        "from matplotlib.pyplot import figure\n",
        "figure(figsize=(20,10))\n",
        "\n",
        "for i in range(32):\n",
        "    plt.subplot(4,8,i+1)\n",
        "    plt.imshow(conv1_imgs[i, :, :], cmap='Greys', )"
      ],
      "metadata": {
        "id": "aKHnFKoIeX7t",
        "colab": {
          "base_uri": "https://localhost:8080/",
          "height": 593
        },
        "outputId": "a60e8216-ae2e-43ad-e4c2-1a2464276b19"
      },
      "execution_count": 45,
      "outputs": [
        {
          "output_type": "display_data",
          "data": {
            "text/plain": [
              "<Figure size 1440x720 with 32 Axes>"
            ],
            "image/png": "[encoded data removed]"
          },
          "metadata": {
            "needs_background": "light"
          }
        }
      ]
    },
    {
      "cell_type": "code",
      "source": [
        "# plotting the feature maps from the 1st Convolutional layer\n",
        "from matplotlib.pyplot import figure\n",
        "figure(figsize=(16,16))\n",
        "\n",
        "for i in range(64):\n",
        "    plt.subplot(8,8,i+1)\n",
        "    plt.imshow(conv2_imgs[i, :, :], cmap='Greys')"
      ],
      "metadata": {
        "id": "YWf0Ia7tja2c",
        "colab": {
          "base_uri": "https://localhost:8080/",
          "height": 919
        },
        "outputId": "2258cd7f-9008-4cd7-9df8-edee0a3765f8"
      },
      "execution_count": 46,
      "outputs": [
        {
          "output_type": "display_data",
          "data": {
            "text/plain": [
              "<Figure size 1152x1152 with 64 Axes>"
            ],
            "image/png": "[encoded data removed]"
          },
          "metadata": {
            "needs_background": "light"
          }
        }
      ]
    },
    {
      "cell_type": "markdown",
      "source": [
        "Disclaimer : The output of the 2nd Convolutional Layer should have been a 8x8 image (before the 2nd maxpooling), instead he have 20x20 images. That is because, we have ignored the 1st maxpooling after the 1st layer."
      ],
      "metadata": {
        "id": "eWpUmwJfcOOZ"
      }
    },
    {
      "cell_type": "markdown",
      "metadata": {
        "id": "OaQLme8sSpOp"
      },
      "source": [
        "## 9. Saving the Model"
      ]
    },
    {
      "cell_type": "code",
      "execution_count": 47,
      "metadata": {
        "id": "meoJ81vbSpOp"
      },
      "outputs": [],
      "source": [
        "# saving the entire model\n",
        "torch.save(networks[2], \"FMNIST_CNN_model.pt\")"
      ]
    },
    {
      "cell_type": "markdown",
      "metadata": {
        "id": "5oZViHG0SpOp"
      },
      "source": [
        "The model is ready to be loaded and used for predictions."
      ]
    },
    {
      "cell_type": "markdown",
      "metadata": {
        "id": "cBtKKqhmSpOp"
      },
      "source": [
        "Done with it. Though there are still many things that can be done to improve the test accuracy and prevent Overfitting. However, that is not under the current scope."
      ]
    },
    {
      "cell_type": "markdown",
      "metadata": {
        "id": "ktUxmx_IEB3y"
      },
      "source": [
        "# The End"
      ]
    }
  ],
  "metadata": {
    "accelerator": "GPU",
    "colab": {
      "collapsed_sections": [],
      "name": "Torch_FMNIST_CNN_latest.ipynb",
      "provenance": []
    },
    "gpuClass": "standard",
    "kernelspec": {
      "display_name": "Python 3 (ipykernel)",
      "language": "python",
      "name": "python3"
    },
    "language_info": {
      "codemirror_mode": {
        "name": "ipython",
        "version": 3
      },
      "file_extension": ".py",
      "mimetype": "text/x-python",
      "name": "python",
      "nbconvert_exporter": "python",
      "pygments_lexer": "ipython3",
      "version": "3.8.13"
    },
    "widgets": {
      "application/vnd.jupyter.widget-state+json": {
        "11e104d3f6ea4aa19c3db3fcf06f472f": {
          "model_module": "@jupyter-widgets/controls",
          "model_name": "HBoxModel",
          "model_module_version": "1.5.0",
          "state": {
            "_dom_classes": [],
            "_model_module": "@jupyter-widgets/controls",
            "_model_module_version": "1.5.0",
            "_model_name": "HBoxModel",
            "_view_count": null,
            "_view_module": "@jupyter-widgets/controls",
            "_view_module_version": "1.5.0",
            "_view_name": "HBoxView",
            "box_style": "",
            "children": [
              "IPY_MODEL_34abb3b803414d718ca85479b36fa421",
              "IPY_MODEL_ca8c6de472464fdc9534608bba097a6c",
              "IPY_MODEL_af83a90288f9401cb74080184ce5d890"
            ],
            "layout": "IPY_MODEL_5583b13d410e46b5a4f8e75d268f51c9"
          }
        },
        "34abb3b803414d718ca85479b36fa421": {
          "model_module": "@jupyter-widgets/controls",
          "model_name": "HTMLModel",
          "model_module_version": "1.5.0",
          "state": {
            "_dom_classes": [],
            "_model_module": "@jupyter-widgets/controls",
            "_model_module_version": "1.5.0",
            "_model_name": "HTMLModel",
            "_view_count": null,
            "_view_module": "@jupyter-widgets/controls",
            "_view_module_version": "1.5.0",
            "_view_name": "HTMLView",
            "description": "",
            "description_tooltip": null,
            "layout": "IPY_MODEL_db0b61167fd845e9a68a923d1bdb722b",
            "placeholder": "​",
            "style": "IPY_MODEL_d7c45f6765f7411a86696c8de92b8ebe",
            "value": "100%"
          }
        },
        "ca8c6de472464fdc9534608bba097a6c": {
          "model_module": "@jupyter-widgets/controls",
          "model_name": "FloatProgressModel",
          "model_module_version": "1.5.0",
          "state": {
            "_dom_classes": [],
            "_model_module": "@jupyter-widgets/controls",
            "_model_module_version": "1.5.0",
            "_model_name": "FloatProgressModel",
            "_view_count": null,
            "_view_module": "@jupyter-widgets/controls",
            "_view_module_version": "1.5.0",
            "_view_name": "ProgressView",
            "bar_style": "success",
            "description": "",
            "description_tooltip": null,
            "layout": "IPY_MODEL_4bef0a1f59d34ef3a0e73631c5907ae6",
            "max": 26421880,
            "min": 0,
            "orientation": "horizontal",
            "style": "IPY_MODEL_774d9930549d4f73b8203b3f16afd925",
            "value": 26421880
          }
        },
        "af83a90288f9401cb74080184ce5d890": {
          "model_module": "@jupyter-widgets/controls",
          "model_name": "HTMLModel",
          "model_module_version": "1.5.0",
          "state": {
            "_dom_classes": [],
            "_model_module": "@jupyter-widgets/controls",
            "_model_module_version": "1.5.0",
            "_model_name": "HTMLModel",
            "_view_count": null,
            "_view_module": "@jupyter-widgets/controls",
            "_view_module_version": "1.5.0",
            "_view_name": "HTMLView",
            "description": "",
            "description_tooltip": null,
            "layout": "IPY_MODEL_fb3c1bbbefb24cd8bb86a5590159760d",
            "placeholder": "​",
            "style": "IPY_MODEL_f9d8e9bfb2904ba6967f3e83013c81c9",
            "value": " 26421880/26421880 [00:03&lt;00:00, 13584449.03it/s]"
          }
        },
        "5583b13d410e46b5a4f8e75d268f51c9": {
          "model_module": "@jupyter-widgets/base",
          "model_name": "LayoutModel",
          "model_module_version": "1.2.0",
          "state": {
            "_model_module": "@jupyter-widgets/base",
            "_model_module_version": "1.2.0",
            "_model_name": "LayoutModel",
            "_view_count": null,
            "_view_module": "@jupyter-widgets/base",
            "_view_module_version": "1.2.0",
            "_view_name": "LayoutView",
            "align_content": null,
            "align_items": null,
            "align_self": null,
            "border": null,
            "bottom": null,
            "display": null,
            "flex": null,
            "flex_flow": null,
            "grid_area": null,
            "grid_auto_columns": null,
            "grid_auto_flow": null,
            "grid_auto_rows": null,
            "grid_column": null,
            "grid_gap": null,
            "grid_row": null,
            "grid_template_areas": null,
            "grid_template_columns": null,
            "grid_template_rows": null,
            "height": null,
            "justify_content": null,
            "justify_items": null,
            "left": null,
            "margin": null,
            "max_height": null,
            "max_width": null,
            "min_height": null,
            "min_width": null,
            "object_fit": null,
            "object_position": null,
            "order": null,
            "overflow": null,
            "overflow_x": null,
            "overflow_y": null,
            "padding": null,
            "right": null,
            "top": null,
            "visibility": null,
            "width": null
          }
        },
        "db0b61167fd845e9a68a923d1bdb722b": {
          "model_module": "@jupyter-widgets/base",
          "model_name": "LayoutModel",
          "model_module_version": "1.2.0",
          "state": {
            "_model_module": "@jupyter-widgets/base",
            "_model_module_version": "1.2.0",
            "_model_name": "LayoutModel",
            "_view_count": null,
            "_view_module": "@jupyter-widgets/base",
            "_view_module_version": "1.2.0",
            "_view_name": "LayoutView",
            "align_content": null,
            "align_items": null,
            "align_self": null,
            "border": null,
            "bottom": null,
            "display": null,
            "flex": null,
            "flex_flow": null,
            "grid_area": null,
            "grid_auto_columns": null,
            "grid_auto_flow": null,
            "grid_auto_rows": null,
            "grid_column": null,
            "grid_gap": null,
            "grid_row": null,
            "grid_template_areas": null,
            "grid_template_columns": null,
            "grid_template_rows": null,
            "height": null,
            "justify_content": null,
            "justify_items": null,
            "left": null,
            "margin": null,
            "max_height": null,
            "max_width": null,
            "min_height": null,
            "min_width": null,
            "object_fit": null,
            "object_position": null,
            "order": null,
            "overflow": null,
            "overflow_x": null,
            "overflow_y": null,
            "padding": null,
            "right": null,
            "top": null,
            "visibility": null,
            "width": null
          }
        },
        "d7c45f6765f7411a86696c8de92b8ebe": {
          "model_module": "@jupyter-widgets/controls",
          "model_name": "DescriptionStyleModel",
          "model_module_version": "1.5.0",
          "state": {
            "_model_module": "@jupyter-widgets/controls",
            "_model_module_version": "1.5.0",
            "_model_name": "DescriptionStyleModel",
            "_view_count": null,
            "_view_module": "@jupyter-widgets/base",
            "_view_module_version": "1.2.0",
            "_view_name": "StyleView",
            "description_width": ""
          }
        },
        "4bef0a1f59d34ef3a0e73631c5907ae6": {
          "model_module": "@jupyter-widgets/base",
          "model_name": "LayoutModel",
          "model_module_version": "1.2.0",
          "state": {
            "_model_module": "@jupyter-widgets/base",
            "_model_module_version": "1.2.0",
            "_model_name": "LayoutModel",
            "_view_count": null,
            "_view_module": "@jupyter-widgets/base",
            "_view_module_version": "1.2.0",
            "_view_name": "LayoutView",
            "align_content": null,
            "align_items": null,
            "align_self": null,
            "border": null,
            "bottom": null,
            "display": null,
            "flex": null,
            "flex_flow": null,
            "grid_area": null,
            "grid_auto_columns": null,
            "grid_auto_flow": null,
            "grid_auto_rows": null,
            "grid_column": null,
            "grid_gap": null,
            "grid_row": null,
            "grid_template_areas": null,
            "grid_template_columns": null,
            "grid_template_rows": null,
            "height": null,
            "justify_content": null,
            "justify_items": null,
            "left": null,
            "margin": null,
            "max_height": null,
            "max_width": null,
            "min_height": null,
            "min_width": null,
            "object_fit": null,
            "object_position": null,
            "order": null,
            "overflow": null,
            "overflow_x": null,
            "overflow_y": null,
            "padding": null,
            "right": null,
            "top": null,
            "visibility": null,
            "width": null
          }
        },
        "774d9930549d4f73b8203b3f16afd925": {
          "model_module": "@jupyter-widgets/controls",
          "model_name": "ProgressStyleModel",
          "model_module_version": "1.5.0",
          "state": {
            "_model_module": "@jupyter-widgets/controls",
            "_model_module_version": "1.5.0",
            "_model_name": "ProgressStyleModel",
            "_view_count": null,
            "_view_module": "@jupyter-widgets/base",
            "_view_module_version": "1.2.0",
            "_view_name": "StyleView",
            "bar_color": null,
            "description_width": ""
          }
        },
        "fb3c1bbbefb24cd8bb86a5590159760d": {
          "model_module": "@jupyter-widgets/base",
          "model_name": "LayoutModel",
          "model_module_version": "1.2.0",
          "state": {
            "_model_module": "@jupyter-widgets/base",
            "_model_module_version": "1.2.0",
            "_model_name": "LayoutModel",
            "_view_count": null,
            "_view_module": "@jupyter-widgets/base",
            "_view_module_version": "1.2.0",
            "_view_name": "LayoutView",
            "align_content": null,
            "align_items": null,
            "align_self": null,
            "border": null,
            "bottom": null,
            "display": null,
            "flex": null,
            "flex_flow": null,
            "grid_area": null,
            "grid_auto_columns": null,
            "grid_auto_flow": null,
            "grid_auto_rows": null,
            "grid_column": null,
            "grid_gap": null,
            "grid_row": null,
            "grid_template_areas": null,
            "grid_template_columns": null,
            "grid_template_rows": null,
            "height": null,
            "justify_content": null,
            "justify_items": null,
            "left": null,
            "margin": null,
            "max_height": null,
            "max_width": null,
            "min_height": null,
            "min_width": null,
            "object_fit": null,
            "object_position": null,
            "order": null,
            "overflow": null,
            "overflow_x": null,
            "overflow_y": null,
            "padding": null,
            "right": null,
            "top": null,
            "visibility": null,
            "width": null
          }
        },
        "f9d8e9bfb2904ba6967f3e83013c81c9": {
          "model_module": "@jupyter-widgets/controls",
          "model_name": "DescriptionStyleModel",
          "model_module_version": "1.5.0",
          "state": {
            "_model_module": "@jupyter-widgets/controls",
            "_model_module_version": "1.5.0",
            "_model_name": "DescriptionStyleModel",
            "_view_count": null,
            "_view_module": "@jupyter-widgets/base",
            "_view_module_version": "1.2.0",
            "_view_name": "StyleView",
            "description_width": ""
          }
        },
        "99831a60eefa41ed9857b9ca494c5c09": {
          "model_module": "@jupyter-widgets/controls",
          "model_name": "HBoxModel",
          "model_module_version": "1.5.0",
          "state": {
            "_dom_classes": [],
            "_model_module": "@jupyter-widgets/controls",
            "_model_module_version": "1.5.0",
            "_model_name": "HBoxModel",
            "_view_count": null,
            "_view_module": "@jupyter-widgets/controls",
            "_view_module_version": "1.5.0",
            "_view_name": "HBoxView",
            "box_style": "",
            "children": [
              "IPY_MODEL_30b55e5c5653466fa14b65f00ce462d8",
              "IPY_MODEL_46d5153552a245438b8d9dc233aa4ea6",
              "IPY_MODEL_6ac7851dc08a46a9a145b5c7b319419b"
            ],
            "layout": "IPY_MODEL_1c3c05269873460591d74bef6e8e9f36"
          }
        },
        "30b55e5c5653466fa14b65f00ce462d8": {
          "model_module": "@jupyter-widgets/controls",
          "model_name": "HTMLModel",
          "model_module_version": "1.5.0",
          "state": {
            "_dom_classes": [],
            "_model_module": "@jupyter-widgets/controls",
            "_model_module_version": "1.5.0",
            "_model_name": "HTMLModel",
            "_view_count": null,
            "_view_module": "@jupyter-widgets/controls",
            "_view_module_version": "1.5.0",
            "_view_name": "HTMLView",
            "description": "",
            "description_tooltip": null,
            "layout": "IPY_MODEL_0b0b886047d6462e8563ba8780436fae",
            "placeholder": "​",
            "style": "IPY_MODEL_7e4e5e441e604d0b8c5781f1961f383d",
            "value": "100%"
          }
        },
        "46d5153552a245438b8d9dc233aa4ea6": {
          "model_module": "@jupyter-widgets/controls",
          "model_name": "FloatProgressModel",
          "model_module_version": "1.5.0",
          "state": {
            "_dom_classes": [],
            "_model_module": "@jupyter-widgets/controls",
            "_model_module_version": "1.5.0",
            "_model_name": "FloatProgressModel",
            "_view_count": null,
            "_view_module": "@jupyter-widgets/controls",
            "_view_module_version": "1.5.0",
            "_view_name": "ProgressView",
            "bar_style": "success",
            "description": "",
            "description_tooltip": null,
            "layout": "IPY_MODEL_2357e29016f445f0ac005f9e499fe3f8",
            "max": 29515,
            "min": 0,
            "orientation": "horizontal",
            "style": "IPY_MODEL_565da4e9df144abb82a7dacf6072654a",
            "value": 29515
          }
        },
        "6ac7851dc08a46a9a145b5c7b319419b": {
          "model_module": "@jupyter-widgets/controls",
          "model_name": "HTMLModel",
          "model_module_version": "1.5.0",
          "state": {
            "_dom_classes": [],
            "_model_module": "@jupyter-widgets/controls",
            "_model_module_version": "1.5.0",
            "_model_name": "HTMLModel",
            "_view_count": null,
            "_view_module": "@jupyter-widgets/controls",
            "_view_module_version": "1.5.0",
            "_view_name": "HTMLView",
            "description": "",
            "description_tooltip": null,
            "layout": "IPY_MODEL_9bef504210ac418aac632d5a54bd50e2",
            "placeholder": "​",
            "style": "IPY_MODEL_7805020c8d964c3d9480d690460f89c0",
            "value": " 29515/29515 [00:00&lt;00:00, 144376.13it/s]"
          }
        },
        "1c3c05269873460591d74bef6e8e9f36": {
          "model_module": "@jupyter-widgets/base",
          "model_name": "LayoutModel",
          "model_module_version": "1.2.0",
          "state": {
            "_model_module": "@jupyter-widgets/base",
            "_model_module_version": "1.2.0",
            "_model_name": "LayoutModel",
            "_view_count": null,
            "_view_module": "@jupyter-widgets/base",
            "_view_module_version": "1.2.0",
            "_view_name": "LayoutView",
            "align_content": null,
            "align_items": null,
            "align_self": null,
            "border": null,
            "bottom": null,
            "display": null,
            "flex": null,
            "flex_flow": null,
            "grid_area": null,
            "grid_auto_columns": null,
            "grid_auto_flow": null,
            "grid_auto_rows": null,
            "grid_column": null,
            "grid_gap": null,
            "grid_row": null,
            "grid_template_areas": null,
            "grid_template_columns": null,
            "grid_template_rows": null,
            "height": null,
            "justify_content": null,
            "justify_items": null,
            "left": null,
            "margin": null,
            "max_height": null,
            "max_width": null,
            "min_height": null,
            "min_width": null,
            "object_fit": null,
            "object_position": null,
            "order": null,
            "overflow": null,
            "overflow_x": null,
            "overflow_y": null,
            "padding": null,
            "right": null,
            "top": null,
            "visibility": null,
            "width": null
          }
        },
        "0b0b886047d6462e8563ba8780436fae": {
          "model_module": "@jupyter-widgets/base",
          "model_name": "LayoutModel",
          "model_module_version": "1.2.0",
          "state": {
            "_model_module": "@jupyter-widgets/base",
            "_model_module_version": "1.2.0",
            "_model_name": "LayoutModel",
            "_view_count": null,
            "_view_module": "@jupyter-widgets/base",
            "_view_module_version": "1.2.0",
            "_view_name": "LayoutView",
            "align_content": null,
            "align_items": null,
            "align_self": null,
            "border": null,
            "bottom": null,
            "display": null,
            "flex": null,
            "flex_flow": null,
            "grid_area": null,
            "grid_auto_columns": null,
            "grid_auto_flow": null,
            "grid_auto_rows": null,
            "grid_column": null,
            "grid_gap": null,
            "grid_row": null,
            "grid_template_areas": null,
            "grid_template_columns": null,
            "grid_template_rows": null,
            "height": null,
            "justify_content": null,
            "justify_items": null,
            "left": null,
            "margin": null,
            "max_height": null,
            "max_width": null,
            "min_height": null,
            "min_width": null,
            "object_fit": null,
            "object_position": null,
            "order": null,
            "overflow": null,
            "overflow_x": null,
            "overflow_y": null,
            "padding": null,
            "right": null,
            "top": null,
            "visibility": null,
            "width": null
          }
        },
        "7e4e5e441e604d0b8c5781f1961f383d": {
          "model_module": "@jupyter-widgets/controls",
          "model_name": "DescriptionStyleModel",
          "model_module_version": "1.5.0",
          "state": {
            "_model_module": "@jupyter-widgets/controls",
            "_model_module_version": "1.5.0",
            "_model_name": "DescriptionStyleModel",
            "_view_count": null,
            "_view_module": "@jupyter-widgets/base",
            "_view_module_version": "1.2.0",
            "_view_name": "StyleView",
            "description_width": ""
          }
        },
        "2357e29016f445f0ac005f9e499fe3f8": {
          "model_module": "@jupyter-widgets/base",
          "model_name": "LayoutModel",
          "model_module_version": "1.2.0",
          "state": {
            "_model_module": "@jupyter-widgets/base",
            "_model_module_version": "1.2.0",
            "_model_name": "LayoutModel",
            "_view_count": null,
            "_view_module": "@jupyter-widgets/base",
            "_view_module_version": "1.2.0",
            "_view_name": "LayoutView",
            "align_content": null,
            "align_items": null,
            "align_self": null,
            "border": null,
            "bottom": null,
            "display": null,
            "flex": null,
            "flex_flow": null,
            "grid_area": null,
            "grid_auto_columns": null,
            "grid_auto_flow": null,
            "grid_auto_rows": null,
            "grid_column": null,
            "grid_gap": null,
            "grid_row": null,
            "grid_template_areas": null,
            "grid_template_columns": null,
            "grid_template_rows": null,
            "height": null,
            "justify_content": null,
            "justify_items": null,
            "left": null,
            "margin": null,
            "max_height": null,
            "max_width": null,
            "min_height": null,
            "min_width": null,
            "object_fit": null,
            "object_position": null,
            "order": null,
            "overflow": null,
            "overflow_x": null,
            "overflow_y": null,
            "padding": null,
            "right": null,
            "top": null,
            "visibility": null,
            "width": null
          }
        },
        "565da4e9df144abb82a7dacf6072654a": {
          "model_module": "@jupyter-widgets/controls",
          "model_name": "ProgressStyleModel",
          "model_module_version": "1.5.0",
          "state": {
            "_model_module": "@jupyter-widgets/controls",
            "_model_module_version": "1.5.0",
            "_model_name": "ProgressStyleModel",
            "_view_count": null,
            "_view_module": "@jupyter-widgets/base",
            "_view_module_version": "1.2.0",
            "_view_name": "StyleView",
            "bar_color": null,
            "description_width": ""
          }
        },
        "9bef504210ac418aac632d5a54bd50e2": {
          "model_module": "@jupyter-widgets/base",
          "model_name": "LayoutModel",
          "model_module_version": "1.2.0",
          "state": {
            "_model_module": "@jupyter-widgets/base",
            "_model_module_version": "1.2.0",
            "_model_name": "LayoutModel",
            "_view_count": null,
            "_view_module": "@jupyter-widgets/base",
            "_view_module_version": "1.2.0",
            "_view_name": "LayoutView",
            "align_content": null,
            "align_items": null,
            "align_self": null,
            "border": null,
            "bottom": null,
            "display": null,
            "flex": null,
            "flex_flow": null,
            "grid_area": null,
            "grid_auto_columns": null,
            "grid_auto_flow": null,
            "grid_auto_rows": null,
            "grid_column": null,
            "grid_gap": null,
            "grid_row": null,
            "grid_template_areas": null,
            "grid_template_columns": null,
            "grid_template_rows": null,
            "height": null,
            "justify_content": null,
            "justify_items": null,
            "left": null,
            "margin": null,
            "max_height": null,
            "max_width": null,
            "min_height": null,
            "min_width": null,
            "object_fit": null,
            "object_position": null,
            "order": null,
            "overflow": null,
            "overflow_x": null,
            "overflow_y": null,
            "padding": null,
            "right": null,
            "top": null,
            "visibility": null,
            "width": null
          }
        },
        "7805020c8d964c3d9480d690460f89c0": {
          "model_module": "@jupyter-widgets/controls",
          "model_name": "DescriptionStyleModel",
          "model_module_version": "1.5.0",
          "state": {
            "_model_module": "@jupyter-widgets/controls",
            "_model_module_version": "1.5.0",
            "_model_name": "DescriptionStyleModel",
            "_view_count": null,
            "_view_module": "@jupyter-widgets/base",
            "_view_module_version": "1.2.0",
            "_view_name": "StyleView",
            "description_width": ""
          }
        },
        "3bcf7dfc9e4a4f389d236006b6a9340c": {
          "model_module": "@jupyter-widgets/controls",
          "model_name": "HBoxModel",
          "model_module_version": "1.5.0",
          "state": {
            "_dom_classes": [],
            "_model_module": "@jupyter-widgets/controls",
            "_model_module_version": "1.5.0",
            "_model_name": "HBoxModel",
            "_view_count": null,
            "_view_module": "@jupyter-widgets/controls",
            "_view_module_version": "1.5.0",
            "_view_name": "HBoxView",
            "box_style": "",
            "children": [
              "IPY_MODEL_db16027352f3418f8e2c29e467a69472",
              "IPY_MODEL_2a96c51d5b044f86b3cca6e12be9c264",
              "IPY_MODEL_b711b0857d8d458383059511e477859e"
            ],
            "layout": "IPY_MODEL_ac30b0a01cae4e51af75191ae4ea3197"
          }
        },
        "db16027352f3418f8e2c29e467a69472": {
          "model_module": "@jupyter-widgets/controls",
          "model_name": "HTMLModel",
          "model_module_version": "1.5.0",
          "state": {
            "_dom_classes": [],
            "_model_module": "@jupyter-widgets/controls",
            "_model_module_version": "1.5.0",
            "_model_name": "HTMLModel",
            "_view_count": null,
            "_view_module": "@jupyter-widgets/controls",
            "_view_module_version": "1.5.0",
            "_view_name": "HTMLView",
            "description": "",
            "description_tooltip": null,
            "layout": "IPY_MODEL_0b06911b31c643fb9cb3623ff835b82e",
            "placeholder": "​",
            "style": "IPY_MODEL_d78512e4cb794084a2970f394ee9854e",
            "value": "100%"
          }
        },
        "2a96c51d5b044f86b3cca6e12be9c264": {
          "model_module": "@jupyter-widgets/controls",
          "model_name": "FloatProgressModel",
          "model_module_version": "1.5.0",
          "state": {
            "_dom_classes": [],
            "_model_module": "@jupyter-widgets/controls",
            "_model_module_version": "1.5.0",
            "_model_name": "FloatProgressModel",
            "_view_count": null,
            "_view_module": "@jupyter-widgets/controls",
            "_view_module_version": "1.5.0",
            "_view_name": "ProgressView",
            "bar_style": "success",
            "description": "",
            "description_tooltip": null,
            "layout": "IPY_MODEL_b2a7e341ce264ec9968377a9c627d03f",
            "max": 4422102,
            "min": 0,
            "orientation": "horizontal",
            "style": "IPY_MODEL_f3ec6831d6e847cd91cc9b32ad4b9195",
            "value": 4422102
          }
        },
        "b711b0857d8d458383059511e477859e": {
          "model_module": "@jupyter-widgets/controls",
          "model_name": "HTMLModel",
          "model_module_version": "1.5.0",
          "state": {
            "_dom_classes": [],
            "_model_module": "@jupyter-widgets/controls",
            "_model_module_version": "1.5.0",
            "_model_name": "HTMLModel",
            "_view_count": null,
            "_view_module": "@jupyter-widgets/controls",
            "_view_module_version": "1.5.0",
            "_view_name": "HTMLView",
            "description": "",
            "description_tooltip": null,
            "layout": "IPY_MODEL_7521941acd5347b0998785f3ddd019cb",
            "placeholder": "​",
            "style": "IPY_MODEL_d3abcd2b337241b98abfa297ede89541",
            "value": " 4422102/4422102 [00:01&lt;00:00, 4041690.30it/s]"
          }
        },
        "ac30b0a01cae4e51af75191ae4ea3197": {
          "model_module": "@jupyter-widgets/base",
          "model_name": "LayoutModel",
          "model_module_version": "1.2.0",
          "state": {
            "_model_module": "@jupyter-widgets/base",
            "_model_module_version": "1.2.0",
            "_model_name": "LayoutModel",
            "_view_count": null,
            "_view_module": "@jupyter-widgets/base",
            "_view_module_version": "1.2.0",
            "_view_name": "LayoutView",
            "align_content": null,
            "align_items": null,
            "align_self": null,
            "border": null,
            "bottom": null,
            "display": null,
            "flex": null,
            "flex_flow": null,
            "grid_area": null,
            "grid_auto_columns": null,
            "grid_auto_flow": null,
            "grid_auto_rows": null,
            "grid_column": null,
            "grid_gap": null,
            "grid_row": null,
            "grid_template_areas": null,
            "grid_template_columns": null,
            "grid_template_rows": null,
            "height": null,
            "justify_content": null,
            "justify_items": null,
            "left": null,
            "margin": null,
            "max_height": null,
            "max_width": null,
            "min_height": null,
            "min_width": null,
            "object_fit": null,
            "object_position": null,
            "order": null,
            "overflow": null,
            "overflow_x": null,
            "overflow_y": null,
            "padding": null,
            "right": null,
            "top": null,
            "visibility": null,
            "width": null
          }
        },
        "0b06911b31c643fb9cb3623ff835b82e": {
          "model_module": "@jupyter-widgets/base",
          "model_name": "LayoutModel",
          "model_module_version": "1.2.0",
          "state": {
            "_model_module": "@jupyter-widgets/base",
            "_model_module_version": "1.2.0",
            "_model_name": "LayoutModel",
            "_view_count": null,
            "_view_module": "@jupyter-widgets/base",
            "_view_module_version": "1.2.0",
            "_view_name": "LayoutView",
            "align_content": null,
            "align_items": null,
            "align_self": null,
            "border": null,
            "bottom": null,
            "display": null,
            "flex": null,
            "flex_flow": null,
            "grid_area": null,
            "grid_auto_columns": null,
            "grid_auto_flow": null,
            "grid_auto_rows": null,
            "grid_column": null,
            "grid_gap": null,
            "grid_row": null,
            "grid_template_areas": null,
            "grid_template_columns": null,
            "grid_template_rows": null,
            "height": null,
            "justify_content": null,
            "justify_items": null,
            "left": null,
            "margin": null,
            "max_height": null,
            "max_width": null,
            "min_height": null,
            "min_width": null,
            "object_fit": null,
            "object_position": null,
            "order": null,
            "overflow": null,
            "overflow_x": null,
            "overflow_y": null,
            "padding": null,
            "right": null,
            "top": null,
            "visibility": null,
            "width": null
          }
        },
        "d78512e4cb794084a2970f394ee9854e": {
          "model_module": "@jupyter-widgets/controls",
          "model_name": "DescriptionStyleModel",
          "model_module_version": "1.5.0",
          "state": {
            "_model_module": "@jupyter-widgets/controls",
            "_model_module_version": "1.5.0",
            "_model_name": "DescriptionStyleModel",
            "_view_count": null,
            "_view_module": "@jupyter-widgets/base",
            "_view_module_version": "1.2.0",
            "_view_name": "StyleView",
            "description_width": ""
          }
        },
        "b2a7e341ce264ec9968377a9c627d03f": {
          "model_module": "@jupyter-widgets/base",
          "model_name": "LayoutModel",
          "model_module_version": "1.2.0",
          "state": {
            "_model_module": "@jupyter-widgets/base",
            "_model_module_version": "1.2.0",
            "_model_name": "LayoutModel",
            "_view_count": null,
            "_view_module": "@jupyter-widgets/base",
            "_view_module_version": "1.2.0",
            "_view_name": "LayoutView",
            "align_content": null,
            "align_items": null,
            "align_self": null,
            "border": null,
            "bottom": null,
            "display": null,
            "flex": null,
            "flex_flow": null,
            "grid_area": null,
            "grid_auto_columns": null,
            "grid_auto_flow": null,
            "grid_auto_rows": null,
            "grid_column": null,
            "grid_gap": null,
            "grid_row": null,
            "grid_template_areas": null,
            "grid_template_columns": null,
            "grid_template_rows": null,
            "height": null,
            "justify_content": null,
            "justify_items": null,
            "left": null,
            "margin": null,
            "max_height": null,
            "max_width": null,
            "min_height": null,
            "min_width": null,
            "object_fit": null,
            "object_position": null,
            "order": null,
            "overflow": null,
            "overflow_x": null,
            "overflow_y": null,
            "padding": null,
            "right": null,
            "top": null,
            "visibility": null,
            "width": null
          }
        },
        "f3ec6831d6e847cd91cc9b32ad4b9195": {
          "model_module": "@jupyter-widgets/controls",
          "model_name": "ProgressStyleModel",
          "model_module_version": "1.5.0",
          "state": {
            "_model_module": "@jupyter-widgets/controls",
            "_model_module_version": "1.5.0",
            "_model_name": "ProgressStyleModel",
            "_view_count": null,
            "_view_module": "@jupyter-widgets/base",
            "_view_module_version": "1.2.0",
            "_view_name": "StyleView",
            "bar_color": null,
            "description_width": ""
          }
        },
        "7521941acd5347b0998785f3ddd019cb": {
          "model_module": "@jupyter-widgets/base",
          "model_name": "LayoutModel",
          "model_module_version": "1.2.0",
          "state": {
            "_model_module": "@jupyter-widgets/base",
            "_model_module_version": "1.2.0",
            "_model_name": "LayoutModel",
            "_view_count": null,
            "_view_module": "@jupyter-widgets/base",
            "_view_module_version": "1.2.0",
            "_view_name": "LayoutView",
            "align_content": null,
            "align_items": null,
            "align_self": null,
            "border": null,
            "bottom": null,
            "display": null,
            "flex": null,
            "flex_flow": null,
            "grid_area": null,
            "grid_auto_columns": null,
            "grid_auto_flow": null,
            "grid_auto_rows": null,
            "grid_column": null,
            "grid_gap": null,
            "grid_row": null,
            "grid_template_areas": null,
            "grid_template_columns": null,
            "grid_template_rows": null,
            "height": null,
            "justify_content": null,
            "justify_items": null,
            "left": null,
            "margin": null,
            "max_height": null,
            "max_width": null,
            "min_height": null,
            "min_width": null,
            "object_fit": null,
            "object_position": null,
            "order": null,
            "overflow": null,
            "overflow_x": null,
            "overflow_y": null,
            "padding": null,
            "right": null,
            "top": null,
            "visibility": null,
            "width": null
          }
        },
        "d3abcd2b337241b98abfa297ede89541": {
          "model_module": "@jupyter-widgets/controls",
          "model_name": "DescriptionStyleModel",
          "model_module_version": "1.5.0",
          "state": {
            "_model_module": "@jupyter-widgets/controls",
            "_model_module_version": "1.5.0",
            "_model_name": "DescriptionStyleModel",
            "_view_count": null,
            "_view_module": "@jupyter-widgets/base",
            "_view_module_version": "1.2.0",
            "_view_name": "StyleView",
            "description_width": ""
          }
        },
        "a9e7df3cdd634714ba7038070316bfc0": {
          "model_module": "@jupyter-widgets/controls",
          "model_name": "HBoxModel",
          "model_module_version": "1.5.0",
          "state": {
            "_dom_classes": [],
            "_model_module": "@jupyter-widgets/controls",
            "_model_module_version": "1.5.0",
            "_model_name": "HBoxModel",
            "_view_count": null,
            "_view_module": "@jupyter-widgets/controls",
            "_view_module_version": "1.5.0",
            "_view_name": "HBoxView",
            "box_style": "",
            "children": [
              "IPY_MODEL_ff66794a2a6d4d35b011c50fc1d9f0f8",
              "IPY_MODEL_ade31883e0a34c0c828e3ea7ca326359",
              "IPY_MODEL_774f15785bad41a8b2955b362993978e"
            ],
            "layout": "IPY_MODEL_d4b5c16d7388449d8c73adbba24ed769"
          }
        },
        "ff66794a2a6d4d35b011c50fc1d9f0f8": {
          "model_module": "@jupyter-widgets/controls",
          "model_name": "HTMLModel",
          "model_module_version": "1.5.0",
          "state": {
            "_dom_classes": [],
            "_model_module": "@jupyter-widgets/controls",
            "_model_module_version": "1.5.0",
            "_model_name": "HTMLModel",
            "_view_count": null,
            "_view_module": "@jupyter-widgets/controls",
            "_view_module_version": "1.5.0",
            "_view_name": "HTMLView",
            "description": "",
            "description_tooltip": null,
            "layout": "IPY_MODEL_d24e8e51bca348e1900588236b3596f3",
            "placeholder": "​",
            "style": "IPY_MODEL_f992fc961b1f433aac11d489561c3842",
            "value": "100%"
          }
        },
        "ade31883e0a34c0c828e3ea7ca326359": {
          "model_module": "@jupyter-widgets/controls",
          "model_name": "FloatProgressModel",
          "model_module_version": "1.5.0",
          "state": {
            "_dom_classes": [],
            "_model_module": "@jupyter-widgets/controls",
            "_model_module_version": "1.5.0",
            "_model_name": "FloatProgressModel",
            "_view_count": null,
            "_view_module": "@jupyter-widgets/controls",
            "_view_module_version": "1.5.0",
            "_view_name": "ProgressView",
            "bar_style": "success",
            "description": "",
            "description_tooltip": null,
            "layout": "IPY_MODEL_3b141196da9b4bbdb99d25ec7411e4e6",
            "max": 5148,
            "min": 0,
            "orientation": "horizontal",
            "style": "IPY_MODEL_02dc0f3fec274b12a3dafa213362a4cd",
            "value": 5148
          }
        },
        "774f15785bad41a8b2955b362993978e": {
          "model_module": "@jupyter-widgets/controls",
          "model_name": "HTMLModel",
          "model_module_version": "1.5.0",
          "state": {
            "_dom_classes": [],
            "_model_module": "@jupyter-widgets/controls",
            "_model_module_version": "1.5.0",
            "_model_name": "HTMLModel",
            "_view_count": null,
            "_view_module": "@jupyter-widgets/controls",
            "_view_module_version": "1.5.0",
            "_view_name": "HTMLView",
            "description": "",
            "description_tooltip": null,
            "layout": "IPY_MODEL_e025eed65f2941708cccbee81187679c",
            "placeholder": "​",
            "style": "IPY_MODEL_20bf5d7fdbf1420b9be5ea375fe0ce66",
            "value": " 5148/5148 [00:00&lt;00:00, 57278.05it/s]"
          }
        },
        "d4b5c16d7388449d8c73adbba24ed769": {
          "model_module": "@jupyter-widgets/base",
          "model_name": "LayoutModel",
          "model_module_version": "1.2.0",
          "state": {
            "_model_module": "@jupyter-widgets/base",
            "_model_module_version": "1.2.0",
            "_model_name": "LayoutModel",
            "_view_count": null,
            "_view_module": "@jupyter-widgets/base",
            "_view_module_version": "1.2.0",
            "_view_name": "LayoutView",
            "align_content": null,
            "align_items": null,
            "align_self": null,
            "border": null,
            "bottom": null,
            "display": null,
            "flex": null,
            "flex_flow": null,
            "grid_area": null,
            "grid_auto_columns": null,
            "grid_auto_flow": null,
            "grid_auto_rows": null,
            "grid_column": null,
            "grid_gap": null,
            "grid_row": null,
            "grid_template_areas": null,
            "grid_template_columns": null,
            "grid_template_rows": null,
            "height": null,
            "justify_content": null,
            "justify_items": null,
            "left": null,
            "margin": null,
            "max_height": null,
            "max_width": null,
            "min_height": null,
            "min_width": null,
            "object_fit": null,
            "object_position": null,
            "order": null,
            "overflow": null,
            "overflow_x": null,
            "overflow_y": null,
            "padding": null,
            "right": null,
            "top": null,
            "visibility": null,
            "width": null
          }
        },
        "d24e8e51bca348e1900588236b3596f3": {
          "model_module": "@jupyter-widgets/base",
          "model_name": "LayoutModel",
          "model_module_version": "1.2.0",
          "state": {
            "_model_module": "@jupyter-widgets/base",
            "_model_module_version": "1.2.0",
            "_model_name": "LayoutModel",
            "_view_count": null,
            "_view_module": "@jupyter-widgets/base",
            "_view_module_version": "1.2.0",
            "_view_name": "LayoutView",
            "align_content": null,
            "align_items": null,
            "align_self": null,
            "border": null,
            "bottom": null,
            "display": null,
            "flex": null,
            "flex_flow": null,
            "grid_area": null,
            "grid_auto_columns": null,
            "grid_auto_flow": null,
            "grid_auto_rows": null,
            "grid_column": null,
            "grid_gap": null,
            "grid_row": null,
            "grid_template_areas": null,
            "grid_template_columns": null,
            "grid_template_rows": null,
            "height": null,
            "justify_content": null,
            "justify_items": null,
            "left": null,
            "margin": null,
            "max_height": null,
            "max_width": null,
            "min_height": null,
            "min_width": null,
            "object_fit": null,
            "object_position": null,
            "order": null,
            "overflow": null,
            "overflow_x": null,
            "overflow_y": null,
            "padding": null,
            "right": null,
            "top": null,
            "visibility": null,
            "width": null
          }
        },
        "f992fc961b1f433aac11d489561c3842": {
          "model_module": "@jupyter-widgets/controls",
          "model_name": "DescriptionStyleModel",
          "model_module_version": "1.5.0",
          "state": {
            "_model_module": "@jupyter-widgets/controls",
            "_model_module_version": "1.5.0",
            "_model_name": "DescriptionStyleModel",
            "_view_count": null,
            "_view_module": "@jupyter-widgets/base",
            "_view_module_version": "1.2.0",
            "_view_name": "StyleView",
            "description_width": ""
          }
        },
        "3b141196da9b4bbdb99d25ec7411e4e6": {
          "model_module": "@jupyter-widgets/base",
          "model_name": "LayoutModel",
          "model_module_version": "1.2.0",
          "state": {
            "_model_module": "@jupyter-widgets/base",
            "_model_module_version": "1.2.0",
            "_model_name": "LayoutModel",
            "_view_count": null,
            "_view_module": "@jupyter-widgets/base",
            "_view_module_version": "1.2.0",
            "_view_name": "LayoutView",
            "align_content": null,
            "align_items": null,
            "align_self": null,
            "border": null,
            "bottom": null,
            "display": null,
            "flex": null,
            "flex_flow": null,
            "grid_area": null,
            "grid_auto_columns": null,
            "grid_auto_flow": null,
            "grid_auto_rows": null,
            "grid_column": null,
            "grid_gap": null,
            "grid_row": null,
            "grid_template_areas": null,
            "grid_template_columns": null,
            "grid_template_rows": null,
            "height": null,
            "justify_content": null,
            "justify_items": null,
            "left": null,
            "margin": null,
            "max_height": null,
            "max_width": null,
            "min_height": null,
            "min_width": null,
            "object_fit": null,
            "object_position": null,
            "order": null,
            "overflow": null,
            "overflow_x": null,
            "overflow_y": null,
            "padding": null,
            "right": null,
            "top": null,
            "visibility": null,
            "width": null
          }
        },
        "02dc0f3fec274b12a3dafa213362a4cd": {
          "model_module": "@jupyter-widgets/controls",
          "model_name": "ProgressStyleModel",
          "model_module_version": "1.5.0",
          "state": {
            "_model_module": "@jupyter-widgets/controls",
            "_model_module_version": "1.5.0",
            "_model_name": "ProgressStyleModel",
            "_view_count": null,
            "_view_module": "@jupyter-widgets/base",
            "_view_module_version": "1.2.0",
            "_view_name": "StyleView",
            "bar_color": null,
            "description_width": ""
          }
        },
        "e025eed65f2941708cccbee81187679c": {
          "model_module": "@jupyter-widgets/base",
          "model_name": "LayoutModel",
          "model_module_version": "1.2.0",
          "state": {
            "_model_module": "@jupyter-widgets/base",
            "_model_module_version": "1.2.0",
            "_model_name": "LayoutModel",
            "_view_count": null,
            "_view_module": "@jupyter-widgets/base",
            "_view_module_version": "1.2.0",
            "_view_name": "LayoutView",
            "align_content": null,
            "align_items": null,
            "align_self": null,
            "border": null,
            "bottom": null,
            "display": null,
            "flex": null,
            "flex_flow": null,
            "grid_area": null,
            "grid_auto_columns": null,
            "grid_auto_flow": null,
            "grid_auto_rows": null,
            "grid_column": null,
            "grid_gap": null,
            "grid_row": null,
            "grid_template_areas": null,
            "grid_template_columns": null,
            "grid_template_rows": null,
            "height": null,
            "justify_content": null,
            "justify_items": null,
            "left": null,
            "margin": null,
            "max_height": null,
            "max_width": null,
            "min_height": null,
            "min_width": null,
            "object_fit": null,
            "object_position": null,
            "order": null,
            "overflow": null,
            "overflow_x": null,
            "overflow_y": null,
            "padding": null,
            "right": null,
            "top": null,
            "visibility": null,
            "width": null
          }
        },
        "20bf5d7fdbf1420b9be5ea375fe0ce66": {
          "model_module": "@jupyter-widgets/controls",
          "model_name": "DescriptionStyleModel",
          "model_module_version": "1.5.0",
          "state": {
            "_model_module": "@jupyter-widgets/controls",
            "_model_module_version": "1.5.0",
            "_model_name": "DescriptionStyleModel",
            "_view_count": null,
            "_view_module": "@jupyter-widgets/base",
            "_view_module_version": "1.2.0",
            "_view_name": "StyleView",
            "description_width": ""
          }
        }
      }
    }
  },
  "nbformat": 4,
  "nbformat_minor": 0
}