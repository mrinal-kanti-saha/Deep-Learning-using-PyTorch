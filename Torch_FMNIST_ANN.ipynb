{
 "cells": [
  {
   "cell_type": "markdown",
   "metadata": {
    "id": "fcUJ1X21p3oa"
   },
   "source": [
    "# FMNIST Classification using ANN"
   ]
  },
  {
   "cell_type": "markdown",
   "metadata": {
    "id": "tfp5MXnQIZEY"
   },
   "source": [
    "### About the Dataset\n",
    "\n",
    "Fashion-MNIST is a dataset of Zalando's article images—consisting of a training set of 60,000 examples and a test set of 10,000 examples. Each example is a 28x28 grayscale image, associated with a label from 10 classes. We intend Fashion-MNIST to serve as a direct drop-in replacement for the original MNIST dataset for benchmarking machine learning algorithms. It shares the same image size and structure of training and testing splits. \n",
    "[More info.](https://github.com/zalandoresearch/fashion-mnist)\n",
    "\n",
    "### Why Fashion-MNIST over MNIST?\n",
    "- MNIST is too easy. Convolutional nets can achieve 99.7% on MNIST. Classic machine learning algorithms can also achieve 97% easily.\n",
    "- MNIST is overused.\n",
    "- MNIST can not represent modern CV tasks."
   ]
  },
  {
   "cell_type": "markdown",
   "metadata": {},
   "source": [
    "Let's now get going with it."
   ]
  },
  {
   "cell_type": "markdown",
   "metadata": {
    "id": "7ZdTqJ4F0qPh"
   },
   "source": [
    "## 1. Importing packages."
   ]
  },
  {
   "cell_type": "code",
   "execution_count": 1,
   "metadata": {
    "id": "J58oi95Ipy6B"
   },
   "outputs": [],
   "source": [
    "import numpy as np\n",
    "import matplotlib.pyplot as plt\n",
    "\n",
    "import torch\n",
    "import torch.nn as nn\n",
    "import torch.optim as optim\n",
    "import torch.nn.functional as F\n",
    "\n",
    "import torchvision\n",
    "import torchvision.transforms as transforms\n",
    "import torchvision.datasets as datasets"
   ]
  },
  {
   "cell_type": "markdown",
   "metadata": {
    "id": "OthzVO7m0xmo"
   },
   "source": [
    "## 2. Downloading Dataset and applying Transformations."
   ]
  },
  {
   "cell_type": "code",
   "execution_count": 2,
   "metadata": {
    "id": "7SGXjn_sqMsw"
   },
   "outputs": [],
   "source": [
    "# defining the transformations (converting the image into tensors).\n",
    "transform = transforms.Compose([transforms.ToTensor()])"
   ]
  },
  {
   "cell_type": "markdown",
   "metadata": {
    "id": "g9faBqTWEvRB"
   },
   "source": [
    "The Dataset could have been normalised, but as all the pixel values(features) range from 0 to 255, normalising the data doesn't seem necessary."
   ]
  },
  {
   "cell_type": "code",
   "execution_count": 3,
   "metadata": {
    "colab": {
     "base_uri": "https://localhost:8080/",
     "height": 423,
     "referenced_widgets": [
      "0151f737425147fc9d0950d00ae9a8d8",
      "c0b9e02c094a4291a792267ab0bcc0eb",
      "8dbb58e2e73f47b48c9aa4a7fefffa9f",
      "91a0e5d4b6574ab995c742954cab3eff",
      "b2938a04d4bc48b19f12bd974beecf08",
      "0489415d24fe4618abb67d22a89fe8c2",
      "c1ca6867ccdf4ccdb0920c41031f7c00",
      "45200ccd3a5646b396611d6fbf7793ab",
      "58e8e1b335704d2b87e8e2db6b503502",
      "d2d74352fe3d478b88f7e4afbc504002",
      "f05a71d60b414981a3284d95ad31fba9",
      "9cd9f07274aa4bafab8caad951fc6003",
      "48d4f46e29b44c62909730bc48084ed8",
      "2765214accc14756b328f40f684d71f2",
      "ded5d6b0843545efaacd4802495c284f",
      "1e9925fa275b451389937005c1363cb3",
      "fd0859680dce402ca6074a609b6cf515",
      "c02c64bdf8d74e9db9f1d7155bc5fbce",
      "9a13115b35a64eb1a85e0f8af80ae1ef",
      "6b0b455075864b7d84414ac9fa0037d7",
      "a500f2646b794477bc7f7fb164a2b716",
      "8e140e0d2df040bebb8915f8a2c8f1e7",
      "be851a76c8614e1c9bcfc78424622660",
      "36bd81c457d949ddb3775ce1290b59db",
      "ff5c17b13db944c1a13dc969048bc3de",
      "34b72d52ca2d47778e77102db78824d3",
      "2a519ba14b8446018b582311579dda50",
      "d306785570684f829a7a18e0e41d1199",
      "e6dbb9d3a30a4c47b2ff5cf7af17b5bc",
      "e80b8ef1a4e343e68e85c3f3ffb05f97",
      "e11527fa727e4ac392e52b2eb2a27992",
      "ead7a95ed55f4a6ebff997b0bde60f15",
      "ae568769608c4bff9fbed11303340f70",
      "35245afe103c43b4933abfd8ce5d48c5",
      "372263c581ce45bda2fb1bdbeeeaeec2",
      "8195100c14ca4694826be06e5c9f6631",
      "742f08d431764272bc53d879b197935f",
      "205b9034dc08401188821988cd0ad378",
      "d1608475f265419b8cf3cb2ca34c4ae1",
      "84c74febd1f7497ebae72dd78c71aaed",
      "195c9aff017449cc819fca7959538313",
      "fd76c99a5f8c4f76afbcfc4769692067",
      "716f82d32b504300a61b60d40031362a",
      "b3ad772f1754494d82008468603912c4"
     ]
    },
    "id": "WaJ159FBubLW",
    "outputId": "11ecebe5-7697-427b-faeb-8fffc9adcf93"
   },
   "outputs": [],
   "source": [
    "# trainset and testset\n",
    "train_set = datasets.FashionMNIST(\n",
    "    root = './data/FMNIST',\n",
    "    train = True,\n",
    "    download = True,\n",
    "    transform = transform\n",
    ")\n",
    "\n",
    "test_set = datasets.FashionMNIST(\n",
    "    root = './data/FMNIST',\n",
    "    train = False,\n",
    "    download = True,\n",
    "    transform = transform\n",
    ")"
   ]
  },
  {
   "cell_type": "code",
   "execution_count": 4,
   "metadata": {},
   "outputs": [
    {
     "name": "stdout",
     "output_type": "stream",
     "text": [
      "Train set shape : 60000\n",
      "Test set shape : 10000\n"
     ]
    }
   ],
   "source": [
    "print(f'Train set : {len(train_set)}')\n",
    "print(f'Test set : {len(test_set)}')"
   ]
  },
  {
   "cell_type": "markdown",
   "metadata": {
    "id": "jDe1TNTFFIj_"
   },
   "source": [
    "## 3. Exploring the data"
   ]
  },
  {
   "cell_type": "code",
   "execution_count": 5,
   "metadata": {
    "id": "EX2LkllAzC7t"
   },
   "outputs": [],
   "source": [
    "from torch.utils.data import DataLoader\n",
    "# Loading data into a DataLoader of batch size 64\n",
    "train_loader = DataLoader(train_set, batch_size=64, shuffle=True)"
   ]
  },
  {
   "cell_type": "code",
   "execution_count": 6,
   "metadata": {
    "id": "JTRVve5ZvP66"
   },
   "outputs": [],
   "source": [
    "# Unpacking the images and labels of a batch\n",
    "images, labels = next(iter(train_loader))"
   ]
  },
  {
   "cell_type": "markdown",
   "metadata": {
    "id": "hsl2sgjzHAVf"
   },
   "source": [
    "Let's check the shapes of our images and labels."
   ]
  },
  {
   "cell_type": "code",
   "execution_count": 7,
   "metadata": {
    "colab": {
     "base_uri": "https://localhost:8080/"
    },
    "id": "IVP1JVM4GUse",
    "outputId": "6b296025-c787-426d-d323-90f03c2bbb74"
   },
   "outputs": [
    {
     "name": "stdout",
     "output_type": "stream",
     "text": [
      "Images' Shape :  torch.Size([64, 1, 28, 28])\n",
      "Labels' Shape :  torch.Size([64])\n"
     ]
    }
   ],
   "source": [
    "print(\"Images' Shape : \", images.shape)\n",
    "print(\"Labels' Shape : \", labels.shape)"
   ]
  },
  {
   "cell_type": "markdown",
   "metadata": {
    "id": "0aNFVIlGHmwY"
   },
   "source": [
    "The shape of the `images` tensor denotes the no of training examples in the batch, the no of color channels in the batch, and finally the height and width of every image.\n",
    "\n",
    "The shape of the `labels` tensor is 64, as the labels contains the digit corresponding to the fashion item(ground-truth) for every single image in the dataset."
   ]
  },
  {
   "cell_type": "markdown",
   "metadata": {},
   "source": [
    "Let's see what the numbers in the labels in the dataset represent."
   ]
  },
  {
   "cell_type": "markdown",
   "metadata": {},
   "source": [
    "<table>\n",
    "<thead>\n",
    "<tr>\n",
    "<th>Label</th>\n",
    "<th>Description</th>\n",
    "</tr>\n",
    "</thead>\n",
    "<tbody>\n",
    "<tr>\n",
    "<td>0</td>\n",
    "<td>T-shirt/top</td>\n",
    "</tr>\n",
    "<tr>\n",
    "<td>1</td>\n",
    "<td>Trouser</td>\n",
    "</tr>\n",
    "<tr>\n",
    "<td>2</td>\n",
    "<td>Pullover</td>\n",
    "</tr>\n",
    "<tr>\n",
    "<td>3</td>\n",
    "<td>Dress</td>\n",
    "</tr>\n",
    "<tr>\n",
    "<td>4</td>\n",
    "<td>Coat</td>\n",
    "</tr>\n",
    "<tr>\n",
    "<td>5</td>\n",
    "<td>Sandal</td>\n",
    "</tr>\n",
    "<tr>\n",
    "<td>6</td>\n",
    "<td>Shirt</td>\n",
    "</tr>\n",
    "<tr>\n",
    "<td>7</td>\n",
    "<td>Sneaker</td>\n",
    "</tr>\n",
    "<tr>\n",
    "<td>8</td>\n",
    "<td>Bag</td>\n",
    "</tr>\n",
    "<tr>\n",
    "<td>9</td>\n",
    "<td>Ankle boot</td>\n",
    "</tr>\n",
    "</tbody>\n",
    "</table>"
   ]
  },
  {
   "cell_type": "markdown",
   "metadata": {
    "id": "XYHMiFaKUeHr"
   },
   "source": [
    "Let's now see how the images look like along with their truth labels."
   ]
  },
  {
   "cell_type": "code",
   "execution_count": 8,
   "metadata": {
    "colab": {
     "base_uri": "https://localhost:8080/",
     "height": 934
    },
    "id": "Uuk_nnByKN5v",
    "outputId": "de7d1ba2-2301-47fd-a10c-068f95f04aba"
   },
   "outputs": [
    {
     "data": {
      "image/png": "[encoded data removed]",
      "text/plain": [
       "<Figure size 1152x1152 with 16 Axes>"
      ]
     },
     "metadata": {
      "needs_background": "light"
     },
     "output_type": "display_data"
    }
   ],
   "source": [
    "from IPython.core.pylabtools import figsize\n",
    "# creating subplots 4x4 grid\n",
    "fig, ax = plt.subplots(4,4, figsize=(16,16))\n",
    "\n",
    "index = 0\n",
    "for i in range(4):\n",
    "    for j in range(4):\n",
    "        ax[i,j].imshow(images[index].squeeze())\n",
    "        ax[i,j].set_title(f'Truth Label : {labels[index].item()}')\n",
    "        index+=1"
   ]
  },
  {
   "cell_type": "markdown",
   "metadata": {
    "id": "a4hgzfLuLW-n"
   },
   "source": [
    "## 4. Designing the Neural Network"
   ]
  },
  {
   "cell_type": "markdown",
   "metadata": {
    "id": "KII2S4PnUeHs"
   },
   "source": [
    "The input layer consists of 28x28 neurons(= the no of pixels in each image) and the output layer consistes of 10 neurons(= no of classes). The Neural Network also consists of 2 hidden layer with 128 and 64 neurons respectively."
   ]
  },
  {
   "cell_type": "code",
   "execution_count": 9,
   "metadata": {
    "id": "hr6uuvggUeHs"
   },
   "outputs": [],
   "source": [
    "# no of neurons in respective layers\n",
    "input_sizes = 28*28\n",
    "output_sizes = 10\n",
    "hidden_sizes = [128, 64]"
   ]
  },
  {
   "cell_type": "code",
   "execution_count": 10,
   "metadata": {
    "id": "OkRE_DzYUeHs"
   },
   "outputs": [],
   "source": [
    "class ANN(nn.Module):\n",
    "    def __init__(self):\n",
    "        super(ANN, self).__init__()\n",
    "        \n",
    "        self.linear1 = nn.Linear(in_features=input_sizes, out_features=hidden_sizes[0])       # 784 -> 128\n",
    "        self.linear2 = nn.Linear(in_features=hidden_sizes[0], out_features=hidden_sizes[1])   # 128 -> 64\n",
    "        self.out = nn.Linear(in_features=hidden_sizes[1], out_features=output_sizes)          # 64  -> 10\n",
    "        \n",
    "    def forward(self, t):\n",
    "         # (1) input layer\n",
    "        t = t \n",
    "        \n",
    "        # (2) hidden layer 1\n",
    "        t = self.linear1(t)\n",
    "        t = F.relu(t)\n",
    "        \n",
    "        # (3) hidden layer 2\n",
    "        t = self.linear2(t)\n",
    "        t = F.relu(t)\n",
    "        \n",
    "        # (4) output layer\n",
    "        t = self.out(t)\n",
    "        \n",
    "        return t"
   ]
  },
  {
   "cell_type": "code",
   "execution_count": 11,
   "metadata": {
    "id": "rzJe34oIUeHs"
   },
   "outputs": [],
   "source": [
    "network_trial = ANN()"
   ]
  },
  {
   "cell_type": "code",
   "execution_count": 12,
   "metadata": {
    "colab": {
     "base_uri": "https://localhost:8080/"
    },
    "id": "f6vFrPcfUeHt",
    "outputId": "ad94b6a9-dd2d-4f47-eecb-da77d238bf35"
   },
   "outputs": [
    {
     "name": "stdout",
     "output_type": "stream",
     "text": [
      "ANN(\n",
      "  (linear1): Linear(in_features=784, out_features=128, bias=True)\n",
      "  (linear2): Linear(in_features=128, out_features=64, bias=True)\n",
      "  (out): Linear(in_features=64, out_features=10, bias=True)\n",
      ")\n"
     ]
    }
   ],
   "source": [
    "print(network_trial)"
   ]
  },
  {
   "cell_type": "markdown",
   "metadata": {
    "id": "6vSyx38sUeHt"
   },
   "source": [
    "Inside the network we usually use `relu()` as our non-linear activation function, but for the output layer, whenever we have a single category that we are trying to predict, we use `softmax()`. The softmax function returns a positive probability for each of the prediction classes, and the probabilities sum to 1.\n",
    "However, in our case, we won't use `softmax()` because the loss function that we'll use, `nn.CrossEntropyLoss()`, implicitly performs the `softmax()` operation on its input, so we'll just return the result of the last linear transformation."
   ]
  },
  {
   "cell_type": "markdown",
   "metadata": {
    "id": "CrRog7FZUeHt"
   },
   "source": [
    "## 5. The Training Process"
   ]
  },
  {
   "cell_type": "code",
   "execution_count": 13,
   "metadata": {
    "id": "eHmKAaH3UeHu"
   },
   "outputs": [],
   "source": [
    "def get_num_correct(pred, labels):\n",
    "    '''Returns number of labels predicted corrected'''\n",
    "    return pred.argmax(dim=1).eq(labels).sum().item()"
   ]
  },
  {
   "cell_type": "markdown",
   "metadata": {
    "id": "0IuWp_WAUeHu"
   },
   "source": [
    "Getting ready for the training process, setting `hyperparameters`, `loss function` and `optimizer`.\\\n",
    "We will be trying out various values of our Hyperparameters, `learning_rates`, `batch_sizes`, `shuffle` and `devices` to get the best model."
   ]
  },
  {
   "cell_type": "code",
   "execution_count": 14,
   "metadata": {
    "id": "O1vwjqSieFkP"
   },
   "outputs": [],
   "source": [
    "from itertools import product\n",
    "\n",
    "parameters = dict(\n",
    "    lr = [.01, .001],\n",
    "    batch_size = [100, 1000],\n",
    "    shuffle = [True]\n",
    ")\n",
    "epochs = 20\n",
    "param_values = [v for v in parameters.values()]\n",
    "\n",
    "device = 'cuda' if torch.cuda.is_available() else 'cpu'\n",
    "\n",
    "# selecting the loss function\n",
    "criterion = nn.CrossEntropyLoss()\n",
    "\n",
    "# creating a list of model for various sets of hyperparameter combination\n",
    "networks = []"
   ]
  },
  {
   "cell_type": "markdown",
   "metadata": {
    "id": "iP4zgHnfUeHu"
   },
   "source": [
    "#### The Training Loop"
   ]
  },
  {
   "cell_type": "markdown",
   "metadata": {
    "id": "M-LbPEOCUeHu"
   },
   "source": [
    "The images have to be flattened out before feeding it to the ANN. Then, the batch is fed into the network. The outputs of the network is fed into the loss function with the truth labels. Then, the old gradients (from the previous iterations) are forced to 0 and backprop starts. The optimizer updates the weights at each iteration."
   ]
  },
  {
   "cell_type": "code",
   "execution_count": 15,
   "metadata": {
    "id": "Ib-lxsZZzMQb"
   },
   "outputs": [
    {
     "name": "stdout",
     "output_type": "stream",
     "text": [
      "\n",
      "Model 0 : Batch size : 100, Learning Rate : 0.01 Shuffle : True\n",
      "\n",
      "Epoch 0 - Training Loss : 0.5139053584138552, Accuracy : 0.8112\n",
      "Epoch 1 - Training Loss : 0.39604434827963514, Accuracy : 0.8564333333333334\n",
      "Epoch 2 - Training Loss : 0.3666242829710245, Accuracy : 0.8658166666666667\n",
      "Epoch 3 - Training Loss : 0.35480564296245576, Accuracy : 0.8711166666666667\n",
      "Epoch 4 - Training Loss : 0.3376127040634553, Accuracy : 0.8766333333333334\n",
      "Epoch 5 - Training Loss : 0.33497414072354637, Accuracy : 0.8777333333333334\n",
      "Epoch 6 - Training Loss : 0.3288186920558413, Accuracy : 0.8811\n",
      "Epoch 7 - Training Loss : 0.32000288980702557, Accuracy : 0.88365\n",
      "Epoch 8 - Training Loss : 0.3157011655593912, Accuracy : 0.8846666666666667\n",
      "Epoch 9 - Training Loss : 0.3060189051926136, Accuracy : 0.8876833333333334\n",
      "Epoch 10 - Training Loss : 0.3064986673121651, Accuracy : 0.8889666666666667\n",
      "Epoch 11 - Training Loss : 0.29900732504824795, Accuracy : 0.88995\n",
      "Epoch 12 - Training Loss : 0.2969070319086313, Accuracy : 0.8912\n",
      "Epoch 13 - Training Loss : 0.29388481814414263, Accuracy : 0.8932166666666667\n",
      "Epoch 14 - Training Loss : 0.2935901886721452, Accuracy : 0.89335\n",
      "Epoch 15 - Training Loss : 0.28950335482756295, Accuracy : 0.8947666666666667\n",
      "Epoch 16 - Training Loss : 0.2799176793297132, Accuracy : 0.8977333333333334\n",
      "Epoch 17 - Training Loss : 0.2869737453262011, Accuracy : 0.8958166666666667\n",
      "Epoch 18 - Training Loss : 0.281701691908141, Accuracy : 0.8983166666666667\n",
      "Epoch 19 - Training Loss : 0.2792877093081673, Accuracy : 0.8984\n",
      "\n",
      "Model 1 : Batch size : 1000, Learning Rate : 0.01 Shuffle : True\n",
      "\n",
      "Epoch 0 - Training Loss : 0.7157967939972878, Accuracy : 0.73265\n",
      "Epoch 1 - Training Loss : 0.41406002789735796, Accuracy : 0.8498833333333333\n",
      "Epoch 2 - Training Loss : 0.36368100593487424, Accuracy : 0.8681\n",
      "Epoch 3 - Training Loss : 0.32850466966629027, Accuracy : 0.8804833333333333\n",
      "Epoch 4 - Training Loss : 0.3237111901243528, Accuracy : 0.88035\n",
      "Epoch 5 - Training Loss : 0.29986456483602525, Accuracy : 0.8888\n",
      "Epoch 6 - Training Loss : 0.2918973301847776, Accuracy : 0.8925\n",
      "Epoch 7 - Training Loss : 0.2772685152788957, Accuracy : 0.8967333333333334\n",
      "Epoch 8 - Training Loss : 0.27146907995144526, Accuracy : 0.8978166666666667\n",
      "Epoch 9 - Training Loss : 0.25903037215272584, Accuracy : 0.9019833333333334\n",
      "Epoch 10 - Training Loss : 0.2548837768534819, Accuracy : 0.9044666666666666\n",
      "Epoch 11 - Training Loss : 0.244890462855498, Accuracy : 0.9089333333333334\n",
      "Epoch 12 - Training Loss : 0.24268825650215148, Accuracy : 0.90805\n",
      "Epoch 13 - Training Loss : 0.23578547015786172, Accuracy : 0.9118166666666667\n",
      "Epoch 14 - Training Loss : 0.2332017369568348, Accuracy : 0.91285\n",
      "Epoch 15 - Training Loss : 0.22240198527773222, Accuracy : 0.9161166666666667\n",
      "Epoch 16 - Training Loss : 0.21564822321136792, Accuracy : 0.9183\n",
      "Epoch 17 - Training Loss : 0.21371428643663723, Accuracy : 0.91845\n",
      "Epoch 18 - Training Loss : 0.20961214130123457, Accuracy : 0.9203666666666667\n",
      "Epoch 19 - Training Loss : 0.2035650707781315, Accuracy : 0.9225833333333333\n",
      "\n",
      "Model 2 : Batch size : 100, Learning Rate : 0.001 Shuffle : True\n",
      "\n",
      "Epoch 0 - Training Loss : 0.5972022180259228, Accuracy : 0.7886333333333333\n",
      "Epoch 1 - Training Loss : 0.41534773180882134, Accuracy : 0.85275\n",
      "Epoch 2 - Training Loss : 0.3705538394550482, Accuracy : 0.8667333333333334\n",
      "Epoch 3 - Training Loss : 0.3411973382284244, Accuracy : 0.876\n",
      "Epoch 4 - Training Loss : 0.3238886535540223, Accuracy : 0.88175\n",
      "Epoch 5 - Training Loss : 0.30772432857503496, Accuracy : 0.888\n",
      "Epoch 6 - Training Loss : 0.2947530534366767, Accuracy : 0.8908833333333334\n",
      "Epoch 7 - Training Loss : 0.28331671389440694, Accuracy : 0.8956166666666666\n",
      "Epoch 8 - Training Loss : 0.2718141710758209, Accuracy : 0.8991333333333333\n",
      "Epoch 9 - Training Loss : 0.26302673927197856, Accuracy : 0.9020666666666667\n",
      "Epoch 10 - Training Loss : 0.25218886087338127, Accuracy : 0.90625\n",
      "Epoch 11 - Training Loss : 0.2457601267596086, Accuracy : 0.9078\n",
      "Epoch 12 - Training Loss : 0.2392236877605319, Accuracy : 0.9107666666666666\n",
      "Epoch 13 - Training Loss : 0.23228065590063732, Accuracy : 0.9135833333333333\n",
      "Epoch 14 - Training Loss : 0.22362842281659445, Accuracy : 0.9159333333333334\n",
      "Epoch 15 - Training Loss : 0.21869837301472822, Accuracy : 0.91775\n",
      "Epoch 16 - Training Loss : 0.21250845628480117, Accuracy : 0.92085\n",
      "Epoch 17 - Training Loss : 0.20432976857448618, Accuracy : 0.92325\n",
      "Epoch 18 - Training Loss : 0.19888489194214343, Accuracy : 0.9249833333333334\n",
      "Epoch 19 - Training Loss : 0.19445000266035398, Accuracy : 0.9271833333333334\n",
      "\n",
      "Model 3 : Batch size : 1000, Learning Rate : 0.001 Shuffle : True\n",
      "\n",
      "Epoch 0 - Training Loss : 1.104593762755394, Accuracy : 0.6574833333333333\n",
      "Epoch 1 - Training Loss : 0.5566769227385521, Accuracy : 0.8069166666666666\n",
      "Epoch 2 - Training Loss : 0.47851735601822537, Accuracy : 0.8341166666666666\n",
      "Epoch 3 - Training Loss : 0.44353120823701225, Accuracy : 0.8455666666666667\n",
      "Epoch 4 - Training Loss : 0.4186924546957016, Accuracy : 0.8535166666666667\n",
      "Epoch 5 - Training Loss : 0.40278201351563137, Accuracy : 0.8576833333333334\n",
      "Epoch 6 - Training Loss : 0.38447772711515427, Accuracy : 0.8659166666666667\n",
      "Epoch 7 - Training Loss : 0.37519614944855373, Accuracy : 0.8684333333333333\n",
      "Epoch 8 - Training Loss : 0.3654793972770373, Accuracy : 0.8717333333333334\n",
      "Epoch 9 - Training Loss : 0.3539020225405693, Accuracy : 0.8757666666666667\n",
      "Epoch 10 - Training Loss : 0.34724217106898625, Accuracy : 0.8779666666666667\n",
      "Epoch 11 - Training Loss : 0.3380448137720426, Accuracy : 0.8812\n",
      "Epoch 12 - Training Loss : 0.3327908098697662, Accuracy : 0.88315\n",
      "Epoch 13 - Training Loss : 0.3241978029410044, Accuracy : 0.8847833333333334\n",
      "Epoch 14 - Training Loss : 0.3180135359366735, Accuracy : 0.8871\n",
      "Epoch 15 - Training Loss : 0.3122017045815786, Accuracy : 0.8890166666666667\n",
      "Epoch 16 - Training Loss : 0.3078365092476209, Accuracy : 0.89035\n",
      "Epoch 17 - Training Loss : 0.30317293827732406, Accuracy : 0.8929\n",
      "Epoch 18 - Training Loss : 0.30370871151487033, Accuracy : 0.8904\n",
      "Epoch 19 - Training Loss : 0.2941377570231756, Accuracy : 0.8944833333333333\n"
     ]
    }
   ],
   "source": [
    "index = 0\n",
    "for lr, batch_size, shuffle in product(*param_values):\n",
    "\n",
    "    print(f'\\nModel {index} : Batch size : {batch_size}, Learning Rate : {lr} Shuffle : {shuffle}\\n')\n",
    "    # using the dataloader to load batches of data\n",
    "    train_loader = DataLoader(train_set, batch_size=batch_size, shuffle=shuffle)\n",
    "    \n",
    "    device = torch.device(device)\n",
    "    network = ANN().to(device)\n",
    "    networks.append(network)\n",
    "    index+=1\n",
    "    \n",
    "    # selecting the optimizer for the loss function\n",
    "    optimizer = optim.Adam(network.parameters(), lr=lr)\n",
    "\n",
    "    for epoch in range(epochs):\n",
    "        total_loss=0\n",
    "        total_correct=0\n",
    "        for batch in train_loader:\n",
    "            images = batch[0].to(device)\n",
    "            labels = batch[1].to(device)\n",
    "            # flattening the 3d image into a 1d vector\n",
    "            images = images.view(images.shape[0], -1)\n",
    "            \n",
    "            # Forward Prop\n",
    "            outputs = network(images)\n",
    "            loss = criterion(outputs, labels)\n",
    "            \n",
    "            optimizer.zero_grad() # making previous grads 0\n",
    "            loss.backward() # Calculate Gradients / Back Prop\n",
    "            optimizer.step() # Update Weights\n",
    "            \n",
    "            total_loss += loss.item() # total loss over batches\n",
    "            # the total loss has to be divided by `len(batches)` for the correct value\n",
    "            total_correct += get_num_correct(outputs, labels)\n",
    "        \n",
    "        print(f'Epoch {epoch} - Training Loss : {total_loss/len(train_loader)}, Accuracy : {total_correct / len(train_set)}')"
   ]
  },
  {
   "cell_type": "markdown",
   "metadata": {
    "id": "kVshFzhxUeHv"
   },
   "source": [
    "The training accuracy of the model with `Batch size : 100, Learning Rate : 0.001 Shuffle : True` in `20 epochs` is already `92.7 %`. The model seems to be good enough."
   ]
  },
  {
   "cell_type": "markdown",
   "metadata": {},
   "source": [
    "Let's evaluate the `Model 2` on the test set now."
   ]
  },
  {
   "cell_type": "code",
   "execution_count": 22,
   "metadata": {},
   "outputs": [
    {
     "data": {
      "text/plain": [
       "ANN(\n",
       "  (linear1): Linear(in_features=784, out_features=128, bias=True)\n",
       "  (linear2): Linear(in_features=128, out_features=64, bias=True)\n",
       "  (out): Linear(in_features=64, out_features=10, bias=True)\n",
       ")"
      ]
     },
     "execution_count": 22,
     "metadata": {},
     "output_type": "execute_result"
    }
   ],
   "source": [
    "networks[2]"
   ]
  },
  {
   "cell_type": "markdown",
   "metadata": {
    "id": "UAYXVyGOUeHv"
   },
   "source": [
    "## 6. Evaluating the network\n",
    "\n",
    "Using the test_loader to generate batches of test data and test the `Model 2` with it."
   ]
  },
  {
   "cell_type": "code",
   "execution_count": 28,
   "metadata": {
    "id": "TJGj2zbqUeHv"
   },
   "outputs": [],
   "source": [
    "test_loader = DataLoader(test_set, batch_size=64, shuffle=True)"
   ]
  },
  {
   "cell_type": "code",
   "execution_count": 29,
   "metadata": {
    "id": "L4VCUNfXUeHx"
   },
   "outputs": [
    {
     "name": "stdout",
     "output_type": "stream",
     "text": [
      "Test Accuracy = 0.8835\n"
     ]
    }
   ],
   "source": [
    "correct_count = 0\n",
    "\n",
    "for images, labels in test_loader:\n",
    "    for i in range(len(labels)):\n",
    "        # getting individual images in the particular test loader and flattening it\n",
    "        image = images[i].view(1, 784)\n",
    "        # turning off gradients to save computation\n",
    "        with torch.no_grad():\n",
    "            outputs = networks[2](image) # taking model 2 from list of models\n",
    "        # squeezing the dimension of the output tensor from [[]] to []\n",
    "        outputs = list(outputs.squeeze())\n",
    "        # taking agrmax of the output and setting it as the predicted label\n",
    "        pred_label = outputs.index(max(outputs))\n",
    "        true_label = labels[i]\n",
    "        \n",
    "        if(true_label == pred_label):\n",
    "            correct_count += 1\n",
    "        \n",
    "print(\"Test Accuracy =\", (correct_count/len(test_set)))"
   ]
  },
  {
   "cell_type": "markdown",
   "metadata": {},
   "source": [
    "The test accuracy is about `88 %` which is good, but can we do it better?"
   ]
  },
  {
   "cell_type": "markdown",
   "metadata": {},
   "source": [
    "We will try this same classification with the Convolutional Neural Network next.\n",
    "Bye for Now!"
   ]
  },
  {
   "cell_type": "markdown",
   "metadata": {},
   "source": [
    "# The End"
   ]
  }
 ],
 "metadata": {
  "colab": {
   "collapsed_sections": [],
   "name": "Torch_FMNIST_ANN.ipynb",
   "provenance": []
  },
  "kernelspec": {
   "display_name": "Python 3 (ipykernel)",
   "language": "python",
   "name": "python3"
  },
  "language_info": {
   "codemirror_mode": {
    "name": "ipython",
    "version": 3
   },
   "file_extension": ".py",
   "mimetype": "text/x-python",
   "name": "python",
   "nbconvert_exporter": "python",
   "pygments_lexer": "ipython3",
   "version": "3.8.13"
  },
  "widgets": {
   "application/vnd.jupyter.widget-state+json": {
    "0151f737425147fc9d0950d00ae9a8d8": {
     "model_module": "@jupyter-widgets/controls",
     "model_module_version": "1.5.0",
     "model_name": "HBoxModel",
     "state": {
      "_dom_classes": [],
      "_model_module": "@jupyter-widgets/controls",
      "_model_module_version": "1.5.0",
      "_model_name": "HBoxModel",
      "_view_count": null,
      "_view_module": "@jupyter-widgets/controls",
      "_view_module_version": "1.5.0",
      "_view_name": "HBoxView",
      "box_style": "",
      "children": [
       "IPY_MODEL_c0b9e02c094a4291a792267ab0bcc0eb",
       "IPY_MODEL_8dbb58e2e73f47b48c9aa4a7fefffa9f",
       "IPY_MODEL_91a0e5d4b6574ab995c742954cab3eff"
      ],
      "layout": "IPY_MODEL_b2938a04d4bc48b19f12bd974beecf08"
     }
    },
    "0489415d24fe4618abb67d22a89fe8c2": {
     "model_module": "@jupyter-widgets/base",
     "model_module_version": "1.2.0",
     "model_name": "LayoutModel",
     "state": {
      "_model_module": "@jupyter-widgets/base",
      "_model_module_version": "1.2.0",
      "_model_name": "LayoutModel",
      "_view_count": null,
      "_view_module": "@jupyter-widgets/base",
      "_view_module_version": "1.2.0",
      "_view_name": "LayoutView",
      "align_content": null,
      "align_items": null,
      "align_self": null,
      "border": null,
      "bottom": null,
      "display": null,
      "flex": null,
      "flex_flow": null,
      "grid_area": null,
      "grid_auto_columns": null,
      "grid_auto_flow": null,
      "grid_auto_rows": null,
      "grid_column": null,
      "grid_gap": null,
      "grid_row": null,
      "grid_template_areas": null,
      "grid_template_columns": null,
      "grid_template_rows": null,
      "height": null,
      "justify_content": null,
      "justify_items": null,
      "left": null,
      "margin": null,
      "max_height": null,
      "max_width": null,
      "min_height": null,
      "min_width": null,
      "object_fit": null,
      "object_position": null,
      "order": null,
      "overflow": null,
      "overflow_x": null,
      "overflow_y": null,
      "padding": null,
      "right": null,
      "top": null,
      "visibility": null,
      "width": null
     }
    },
    "195c9aff017449cc819fca7959538313": {
     "model_module": "@jupyter-widgets/base",
     "model_module_version": "1.2.0",
     "model_name": "LayoutModel",
     "state": {
      "_model_module": "@jupyter-widgets/base",
      "_model_module_version": "1.2.0",
      "_model_name": "LayoutModel",
      "_view_count": null,
      "_view_module": "@jupyter-widgets/base",
      "_view_module_version": "1.2.0",
      "_view_name": "LayoutView",
      "align_content": null,
      "align_items": null,
      "align_self": null,
      "border": null,
      "bottom": null,
      "display": null,
      "flex": null,
      "flex_flow": null,
      "grid_area": null,
      "grid_auto_columns": null,
      "grid_auto_flow": null,
      "grid_auto_rows": null,
      "grid_column": null,
      "grid_gap": null,
      "grid_row": null,
      "grid_template_areas": null,
      "grid_template_columns": null,
      "grid_template_rows": null,
      "height": null,
      "justify_content": null,
      "justify_items": null,
      "left": null,
      "margin": null,
      "max_height": null,
      "max_width": null,
      "min_height": null,
      "min_width": null,
      "object_fit": null,
      "object_position": null,
      "order": null,
      "overflow": null,
      "overflow_x": null,
      "overflow_y": null,
      "padding": null,
      "right": null,
      "top": null,
      "visibility": null,
      "width": null
     }
    },
    "1e9925fa275b451389937005c1363cb3": {
     "model_module": "@jupyter-widgets/base",
     "model_module_version": "1.2.0",
     "model_name": "LayoutModel",
     "state": {
      "_model_module": "@jupyter-widgets/base",
      "_model_module_version": "1.2.0",
      "_model_name": "LayoutModel",
      "_view_count": null,
      "_view_module": "@jupyter-widgets/base",
      "_view_module_version": "1.2.0",
      "_view_name": "LayoutView",
      "align_content": null,
      "align_items": null,
      "align_self": null,
      "border": null,
      "bottom": null,
      "display": null,
      "flex": null,
      "flex_flow": null,
      "grid_area": null,
      "grid_auto_columns": null,
      "grid_auto_flow": null,
      "grid_auto_rows": null,
      "grid_column": null,
      "grid_gap": null,
      "grid_row": null,
      "grid_template_areas": null,
      "grid_template_columns": null,
      "grid_template_rows": null,
      "height": null,
      "justify_content": null,
      "justify_items": null,
      "left": null,
      "margin": null,
      "max_height": null,
      "max_width": null,
      "min_height": null,
      "min_width": null,
      "object_fit": null,
      "object_position": null,
      "order": null,
      "overflow": null,
      "overflow_x": null,
      "overflow_y": null,
      "padding": null,
      "right": null,
      "top": null,
      "visibility": null,
      "width": null
     }
    },
    "205b9034dc08401188821988cd0ad378": {
     "model_module": "@jupyter-widgets/base",
     "model_module_version": "1.2.0",
     "model_name": "LayoutModel",
     "state": {
      "_model_module": "@jupyter-widgets/base",
      "_model_module_version": "1.2.0",
      "_model_name": "LayoutModel",
      "_view_count": null,
      "_view_module": "@jupyter-widgets/base",
      "_view_module_version": "1.2.0",
      "_view_name": "LayoutView",
      "align_content": null,
      "align_items": null,
      "align_self": null,
      "border": null,
      "bottom": null,
      "display": null,
      "flex": null,
      "flex_flow": null,
      "grid_area": null,
      "grid_auto_columns": null,
      "grid_auto_flow": null,
      "grid_auto_rows": null,
      "grid_column": null,
      "grid_gap": null,
      "grid_row": null,
      "grid_template_areas": null,
      "grid_template_columns": null,
      "grid_template_rows": null,
      "height": null,
      "justify_content": null,
      "justify_items": null,
      "left": null,
      "margin": null,
      "max_height": null,
      "max_width": null,
      "min_height": null,
      "min_width": null,
      "object_fit": null,
      "object_position": null,
      "order": null,
      "overflow": null,
      "overflow_x": null,
      "overflow_y": null,
      "padding": null,
      "right": null,
      "top": null,
      "visibility": null,
      "width": null
     }
    },
    "2765214accc14756b328f40f684d71f2": {
     "model_module": "@jupyter-widgets/controls",
     "model_module_version": "1.5.0",
     "model_name": "FloatProgressModel",
     "state": {
      "_dom_classes": [],
      "_model_module": "@jupyter-widgets/controls",
      "_model_module_version": "1.5.0",
      "_model_name": "FloatProgressModel",
      "_view_count": null,
      "_view_module": "@jupyter-widgets/controls",
      "_view_module_version": "1.5.0",
      "_view_name": "ProgressView",
      "bar_style": "success",
      "description": "",
      "description_tooltip": null,
      "layout": "IPY_MODEL_9a13115b35a64eb1a85e0f8af80ae1ef",
      "max": 29515,
      "min": 0,
      "orientation": "horizontal",
      "style": "IPY_MODEL_6b0b455075864b7d84414ac9fa0037d7",
      "value": 29515
     }
    },
    "2a519ba14b8446018b582311579dda50": {
     "model_module": "@jupyter-widgets/base",
     "model_module_version": "1.2.0",
     "model_name": "LayoutModel",
     "state": {
      "_model_module": "@jupyter-widgets/base",
      "_model_module_version": "1.2.0",
      "_model_name": "LayoutModel",
      "_view_count": null,
      "_view_module": "@jupyter-widgets/base",
      "_view_module_version": "1.2.0",
      "_view_name": "LayoutView",
      "align_content": null,
      "align_items": null,
      "align_self": null,
      "border": null,
      "bottom": null,
      "display": null,
      "flex": null,
      "flex_flow": null,
      "grid_area": null,
      "grid_auto_columns": null,
      "grid_auto_flow": null,
      "grid_auto_rows": null,
      "grid_column": null,
      "grid_gap": null,
      "grid_row": null,
      "grid_template_areas": null,
      "grid_template_columns": null,
      "grid_template_rows": null,
      "height": null,
      "justify_content": null,
      "justify_items": null,
      "left": null,
      "margin": null,
      "max_height": null,
      "max_width": null,
      "min_height": null,
      "min_width": null,
      "object_fit": null,
      "object_position": null,
      "order": null,
      "overflow": null,
      "overflow_x": null,
      "overflow_y": null,
      "padding": null,
      "right": null,
      "top": null,
      "visibility": null,
      "width": null
     }
    },
    "34b72d52ca2d47778e77102db78824d3": {
     "model_module": "@jupyter-widgets/controls",
     "model_module_version": "1.5.0",
     "model_name": "HTMLModel",
     "state": {
      "_dom_classes": [],
      "_model_module": "@jupyter-widgets/controls",
      "_model_module_version": "1.5.0",
      "_model_name": "HTMLModel",
      "_view_count": null,
      "_view_module": "@jupyter-widgets/controls",
      "_view_module_version": "1.5.0",
      "_view_name": "HTMLView",
      "description": "",
      "description_tooltip": null,
      "layout": "IPY_MODEL_ead7a95ed55f4a6ebff997b0bde60f15",
      "placeholder": "​",
      "style": "IPY_MODEL_ae568769608c4bff9fbed11303340f70",
      "value": " 4422102/4422102 [00:01&lt;00:00, 6029025.39it/s]"
     }
    },
    "35245afe103c43b4933abfd8ce5d48c5": {
     "model_module": "@jupyter-widgets/controls",
     "model_module_version": "1.5.0",
     "model_name": "HBoxModel",
     "state": {
      "_dom_classes": [],
      "_model_module": "@jupyter-widgets/controls",
      "_model_module_version": "1.5.0",
      "_model_name": "HBoxModel",
      "_view_count": null,
      "_view_module": "@jupyter-widgets/controls",
      "_view_module_version": "1.5.0",
      "_view_name": "HBoxView",
      "box_style": "",
      "children": [
       "IPY_MODEL_372263c581ce45bda2fb1bdbeeeaeec2",
       "IPY_MODEL_8195100c14ca4694826be06e5c9f6631",
       "IPY_MODEL_742f08d431764272bc53d879b197935f"
      ],
      "layout": "IPY_MODEL_205b9034dc08401188821988cd0ad378"
     }
    },
    "36bd81c457d949ddb3775ce1290b59db": {
     "model_module": "@jupyter-widgets/controls",
     "model_module_version": "1.5.0",
     "model_name": "HTMLModel",
     "state": {
      "_dom_classes": [],
      "_model_module": "@jupyter-widgets/controls",
      "_model_module_version": "1.5.0",
      "_model_name": "HTMLModel",
      "_view_count": null,
      "_view_module": "@jupyter-widgets/controls",
      "_view_module_version": "1.5.0",
      "_view_name": "HTMLView",
      "description": "",
      "description_tooltip": null,
      "layout": "IPY_MODEL_d306785570684f829a7a18e0e41d1199",
      "placeholder": "​",
      "style": "IPY_MODEL_e6dbb9d3a30a4c47b2ff5cf7af17b5bc",
      "value": "100%"
     }
    },
    "372263c581ce45bda2fb1bdbeeeaeec2": {
     "model_module": "@jupyter-widgets/controls",
     "model_module_version": "1.5.0",
     "model_name": "HTMLModel",
     "state": {
      "_dom_classes": [],
      "_model_module": "@jupyter-widgets/controls",
      "_model_module_version": "1.5.0",
      "_model_name": "HTMLModel",
      "_view_count": null,
      "_view_module": "@jupyter-widgets/controls",
      "_view_module_version": "1.5.0",
      "_view_name": "HTMLView",
      "description": "",
      "description_tooltip": null,
      "layout": "IPY_MODEL_d1608475f265419b8cf3cb2ca34c4ae1",
      "placeholder": "​",
      "style": "IPY_MODEL_84c74febd1f7497ebae72dd78c71aaed",
      "value": "100%"
     }
    },
    "45200ccd3a5646b396611d6fbf7793ab": {
     "model_module": "@jupyter-widgets/base",
     "model_module_version": "1.2.0",
     "model_name": "LayoutModel",
     "state": {
      "_model_module": "@jupyter-widgets/base",
      "_model_module_version": "1.2.0",
      "_model_name": "LayoutModel",
      "_view_count": null,
      "_view_module": "@jupyter-widgets/base",
      "_view_module_version": "1.2.0",
      "_view_name": "LayoutView",
      "align_content": null,
      "align_items": null,
      "align_self": null,
      "border": null,
      "bottom": null,
      "display": null,
      "flex": null,
      "flex_flow": null,
      "grid_area": null,
      "grid_auto_columns": null,
      "grid_auto_flow": null,
      "grid_auto_rows": null,
      "grid_column": null,
      "grid_gap": null,
      "grid_row": null,
      "grid_template_areas": null,
      "grid_template_columns": null,
      "grid_template_rows": null,
      "height": null,
      "justify_content": null,
      "justify_items": null,
      "left": null,
      "margin": null,
      "max_height": null,
      "max_width": null,
      "min_height": null,
      "min_width": null,
      "object_fit": null,
      "object_position": null,
      "order": null,
      "overflow": null,
      "overflow_x": null,
      "overflow_y": null,
      "padding": null,
      "right": null,
      "top": null,
      "visibility": null,
      "width": null
     }
    },
    "48d4f46e29b44c62909730bc48084ed8": {
     "model_module": "@jupyter-widgets/controls",
     "model_module_version": "1.5.0",
     "model_name": "HTMLModel",
     "state": {
      "_dom_classes": [],
      "_model_module": "@jupyter-widgets/controls",
      "_model_module_version": "1.5.0",
      "_model_name": "HTMLModel",
      "_view_count": null,
      "_view_module": "@jupyter-widgets/controls",
      "_view_module_version": "1.5.0",
      "_view_name": "HTMLView",
      "description": "",
      "description_tooltip": null,
      "layout": "IPY_MODEL_fd0859680dce402ca6074a609b6cf515",
      "placeholder": "​",
      "style": "IPY_MODEL_c02c64bdf8d74e9db9f1d7155bc5fbce",
      "value": "100%"
     }
    },
    "58e8e1b335704d2b87e8e2db6b503502": {
     "model_module": "@jupyter-widgets/controls",
     "model_module_version": "1.5.0",
     "model_name": "ProgressStyleModel",
     "state": {
      "_model_module": "@jupyter-widgets/controls",
      "_model_module_version": "1.5.0",
      "_model_name": "ProgressStyleModel",
      "_view_count": null,
      "_view_module": "@jupyter-widgets/base",
      "_view_module_version": "1.2.0",
      "_view_name": "StyleView",
      "bar_color": null,
      "description_width": ""
     }
    },
    "6b0b455075864b7d84414ac9fa0037d7": {
     "model_module": "@jupyter-widgets/controls",
     "model_module_version": "1.5.0",
     "model_name": "ProgressStyleModel",
     "state": {
      "_model_module": "@jupyter-widgets/controls",
      "_model_module_version": "1.5.0",
      "_model_name": "ProgressStyleModel",
      "_view_count": null,
      "_view_module": "@jupyter-widgets/base",
      "_view_module_version": "1.2.0",
      "_view_name": "StyleView",
      "bar_color": null,
      "description_width": ""
     }
    },
    "716f82d32b504300a61b60d40031362a": {
     "model_module": "@jupyter-widgets/base",
     "model_module_version": "1.2.0",
     "model_name": "LayoutModel",
     "state": {
      "_model_module": "@jupyter-widgets/base",
      "_model_module_version": "1.2.0",
      "_model_name": "LayoutModel",
      "_view_count": null,
      "_view_module": "@jupyter-widgets/base",
      "_view_module_version": "1.2.0",
      "_view_name": "LayoutView",
      "align_content": null,
      "align_items": null,
      "align_self": null,
      "border": null,
      "bottom": null,
      "display": null,
      "flex": null,
      "flex_flow": null,
      "grid_area": null,
      "grid_auto_columns": null,
      "grid_auto_flow": null,
      "grid_auto_rows": null,
      "grid_column": null,
      "grid_gap": null,
      "grid_row": null,
      "grid_template_areas": null,
      "grid_template_columns": null,
      "grid_template_rows": null,
      "height": null,
      "justify_content": null,
      "justify_items": null,
      "left": null,
      "margin": null,
      "max_height": null,
      "max_width": null,
      "min_height": null,
      "min_width": null,
      "object_fit": null,
      "object_position": null,
      "order": null,
      "overflow": null,
      "overflow_x": null,
      "overflow_y": null,
      "padding": null,
      "right": null,
      "top": null,
      "visibility": null,
      "width": null
     }
    },
    "742f08d431764272bc53d879b197935f": {
     "model_module": "@jupyter-widgets/controls",
     "model_module_version": "1.5.0",
     "model_name": "HTMLModel",
     "state": {
      "_dom_classes": [],
      "_model_module": "@jupyter-widgets/controls",
      "_model_module_version": "1.5.0",
      "_model_name": "HTMLModel",
      "_view_count": null,
      "_view_module": "@jupyter-widgets/controls",
      "_view_module_version": "1.5.0",
      "_view_name": "HTMLView",
      "description": "",
      "description_tooltip": null,
      "layout": "IPY_MODEL_716f82d32b504300a61b60d40031362a",
      "placeholder": "​",
      "style": "IPY_MODEL_b3ad772f1754494d82008468603912c4",
      "value": " 5148/5148 [00:00&lt;00:00, 161907.27it/s]"
     }
    },
    "8195100c14ca4694826be06e5c9f6631": {
     "model_module": "@jupyter-widgets/controls",
     "model_module_version": "1.5.0",
     "model_name": "FloatProgressModel",
     "state": {
      "_dom_classes": [],
      "_model_module": "@jupyter-widgets/controls",
      "_model_module_version": "1.5.0",
      "_model_name": "FloatProgressModel",
      "_view_count": null,
      "_view_module": "@jupyter-widgets/controls",
      "_view_module_version": "1.5.0",
      "_view_name": "ProgressView",
      "bar_style": "success",
      "description": "",
      "description_tooltip": null,
      "layout": "IPY_MODEL_195c9aff017449cc819fca7959538313",
      "max": 5148,
      "min": 0,
      "orientation": "horizontal",
      "style": "IPY_MODEL_fd76c99a5f8c4f76afbcfc4769692067",
      "value": 5148
     }
    },
    "84c74febd1f7497ebae72dd78c71aaed": {
     "model_module": "@jupyter-widgets/controls",
     "model_module_version": "1.5.0",
     "model_name": "DescriptionStyleModel",
     "state": {
      "_model_module": "@jupyter-widgets/controls",
      "_model_module_version": "1.5.0",
      "_model_name": "DescriptionStyleModel",
      "_view_count": null,
      "_view_module": "@jupyter-widgets/base",
      "_view_module_version": "1.2.0",
      "_view_name": "StyleView",
      "description_width": ""
     }
    },
    "8dbb58e2e73f47b48c9aa4a7fefffa9f": {
     "model_module": "@jupyter-widgets/controls",
     "model_module_version": "1.5.0",
     "model_name": "FloatProgressModel",
     "state": {
      "_dom_classes": [],
      "_model_module": "@jupyter-widgets/controls",
      "_model_module_version": "1.5.0",
      "_model_name": "FloatProgressModel",
      "_view_count": null,
      "_view_module": "@jupyter-widgets/controls",
      "_view_module_version": "1.5.0",
      "_view_name": "ProgressView",
      "bar_style": "success",
      "description": "",
      "description_tooltip": null,
      "layout": "IPY_MODEL_45200ccd3a5646b396611d6fbf7793ab",
      "max": 26421880,
      "min": 0,
      "orientation": "horizontal",
      "style": "IPY_MODEL_58e8e1b335704d2b87e8e2db6b503502",
      "value": 26421880
     }
    },
    "8e140e0d2df040bebb8915f8a2c8f1e7": {
     "model_module": "@jupyter-widgets/controls",
     "model_module_version": "1.5.0",
     "model_name": "DescriptionStyleModel",
     "state": {
      "_model_module": "@jupyter-widgets/controls",
      "_model_module_version": "1.5.0",
      "_model_name": "DescriptionStyleModel",
      "_view_count": null,
      "_view_module": "@jupyter-widgets/base",
      "_view_module_version": "1.2.0",
      "_view_name": "StyleView",
      "description_width": ""
     }
    },
    "91a0e5d4b6574ab995c742954cab3eff": {
     "model_module": "@jupyter-widgets/controls",
     "model_module_version": "1.5.0",
     "model_name": "HTMLModel",
     "state": {
      "_dom_classes": [],
      "_model_module": "@jupyter-widgets/controls",
      "_model_module_version": "1.5.0",
      "_model_name": "HTMLModel",
      "_view_count": null,
      "_view_module": "@jupyter-widgets/controls",
      "_view_module_version": "1.5.0",
      "_view_name": "HTMLView",
      "description": "",
      "description_tooltip": null,
      "layout": "IPY_MODEL_d2d74352fe3d478b88f7e4afbc504002",
      "placeholder": "​",
      "style": "IPY_MODEL_f05a71d60b414981a3284d95ad31fba9",
      "value": " 26421880/26421880 [00:02&lt;00:00, 18015541.12it/s]"
     }
    },
    "9a13115b35a64eb1a85e0f8af80ae1ef": {
     "model_module": "@jupyter-widgets/base",
     "model_module_version": "1.2.0",
     "model_name": "LayoutModel",
     "state": {
      "_model_module": "@jupyter-widgets/base",
      "_model_module_version": "1.2.0",
      "_model_name": "LayoutModel",
      "_view_count": null,
      "_view_module": "@jupyter-widgets/base",
      "_view_module_version": "1.2.0",
      "_view_name": "LayoutView",
      "align_content": null,
      "align_items": null,
      "align_self": null,
      "border": null,
      "bottom": null,
      "display": null,
      "flex": null,
      "flex_flow": null,
      "grid_area": null,
      "grid_auto_columns": null,
      "grid_auto_flow": null,
      "grid_auto_rows": null,
      "grid_column": null,
      "grid_gap": null,
      "grid_row": null,
      "grid_template_areas": null,
      "grid_template_columns": null,
      "grid_template_rows": null,
      "height": null,
      "justify_content": null,
      "justify_items": null,
      "left": null,
      "margin": null,
      "max_height": null,
      "max_width": null,
      "min_height": null,
      "min_width": null,
      "object_fit": null,
      "object_position": null,
      "order": null,
      "overflow": null,
      "overflow_x": null,
      "overflow_y": null,
      "padding": null,
      "right": null,
      "top": null,
      "visibility": null,
      "width": null
     }
    },
    "9cd9f07274aa4bafab8caad951fc6003": {
     "model_module": "@jupyter-widgets/controls",
     "model_module_version": "1.5.0",
     "model_name": "HBoxModel",
     "state": {
      "_dom_classes": [],
      "_model_module": "@jupyter-widgets/controls",
      "_model_module_version": "1.5.0",
      "_model_name": "HBoxModel",
      "_view_count": null,
      "_view_module": "@jupyter-widgets/controls",
      "_view_module_version": "1.5.0",
      "_view_name": "HBoxView",
      "box_style": "",
      "children": [
       "IPY_MODEL_48d4f46e29b44c62909730bc48084ed8",
       "IPY_MODEL_2765214accc14756b328f40f684d71f2",
       "IPY_MODEL_ded5d6b0843545efaacd4802495c284f"
      ],
      "layout": "IPY_MODEL_1e9925fa275b451389937005c1363cb3"
     }
    },
    "a500f2646b794477bc7f7fb164a2b716": {
     "model_module": "@jupyter-widgets/base",
     "model_module_version": "1.2.0",
     "model_name": "LayoutModel",
     "state": {
      "_model_module": "@jupyter-widgets/base",
      "_model_module_version": "1.2.0",
      "_model_name": "LayoutModel",
      "_view_count": null,
      "_view_module": "@jupyter-widgets/base",
      "_view_module_version": "1.2.0",
      "_view_name": "LayoutView",
      "align_content": null,
      "align_items": null,
      "align_self": null,
      "border": null,
      "bottom": null,
      "display": null,
      "flex": null,
      "flex_flow": null,
      "grid_area": null,
      "grid_auto_columns": null,
      "grid_auto_flow": null,
      "grid_auto_rows": null,
      "grid_column": null,
      "grid_gap": null,
      "grid_row": null,
      "grid_template_areas": null,
      "grid_template_columns": null,
      "grid_template_rows": null,
      "height": null,
      "justify_content": null,
      "justify_items": null,
      "left": null,
      "margin": null,
      "max_height": null,
      "max_width": null,
      "min_height": null,
      "min_width": null,
      "object_fit": null,
      "object_position": null,
      "order": null,
      "overflow": null,
      "overflow_x": null,
      "overflow_y": null,
      "padding": null,
      "right": null,
      "top": null,
      "visibility": null,
      "width": null
     }
    },
    "ae568769608c4bff9fbed11303340f70": {
     "model_module": "@jupyter-widgets/controls",
     "model_module_version": "1.5.0",
     "model_name": "DescriptionStyleModel",
     "state": {
      "_model_module": "@jupyter-widgets/controls",
      "_model_module_version": "1.5.0",
      "_model_name": "DescriptionStyleModel",
      "_view_count": null,
      "_view_module": "@jupyter-widgets/base",
      "_view_module_version": "1.2.0",
      "_view_name": "StyleView",
      "description_width": ""
     }
    },
    "b2938a04d4bc48b19f12bd974beecf08": {
     "model_module": "@jupyter-widgets/base",
     "model_module_version": "1.2.0",
     "model_name": "LayoutModel",
     "state": {
      "_model_module": "@jupyter-widgets/base",
      "_model_module_version": "1.2.0",
      "_model_name": "LayoutModel",
      "_view_count": null,
      "_view_module": "@jupyter-widgets/base",
      "_view_module_version": "1.2.0",
      "_view_name": "LayoutView",
      "align_content": null,
      "align_items": null,
      "align_self": null,
      "border": null,
      "bottom": null,
      "display": null,
      "flex": null,
      "flex_flow": null,
      "grid_area": null,
      "grid_auto_columns": null,
      "grid_auto_flow": null,
      "grid_auto_rows": null,
      "grid_column": null,
      "grid_gap": null,
      "grid_row": null,
      "grid_template_areas": null,
      "grid_template_columns": null,
      "grid_template_rows": null,
      "height": null,
      "justify_content": null,
      "justify_items": null,
      "left": null,
      "margin": null,
      "max_height": null,
      "max_width": null,
      "min_height": null,
      "min_width": null,
      "object_fit": null,
      "object_position": null,
      "order": null,
      "overflow": null,
      "overflow_x": null,
      "overflow_y": null,
      "padding": null,
      "right": null,
      "top": null,
      "visibility": null,
      "width": null
     }
    },
    "b3ad772f1754494d82008468603912c4": {
     "model_module": "@jupyter-widgets/controls",
     "model_module_version": "1.5.0",
     "model_name": "DescriptionStyleModel",
     "state": {
      "_model_module": "@jupyter-widgets/controls",
      "_model_module_version": "1.5.0",
      "_model_name": "DescriptionStyleModel",
      "_view_count": null,
      "_view_module": "@jupyter-widgets/base",
      "_view_module_version": "1.2.0",
      "_view_name": "StyleView",
      "description_width": ""
     }
    },
    "be851a76c8614e1c9bcfc78424622660": {
     "model_module": "@jupyter-widgets/controls",
     "model_module_version": "1.5.0",
     "model_name": "HBoxModel",
     "state": {
      "_dom_classes": [],
      "_model_module": "@jupyter-widgets/controls",
      "_model_module_version": "1.5.0",
      "_model_name": "HBoxModel",
      "_view_count": null,
      "_view_module": "@jupyter-widgets/controls",
      "_view_module_version": "1.5.0",
      "_view_name": "HBoxView",
      "box_style": "",
      "children": [
       "IPY_MODEL_36bd81c457d949ddb3775ce1290b59db",
       "IPY_MODEL_ff5c17b13db944c1a13dc969048bc3de",
       "IPY_MODEL_34b72d52ca2d47778e77102db78824d3"
      ],
      "layout": "IPY_MODEL_2a519ba14b8446018b582311579dda50"
     }
    },
    "c02c64bdf8d74e9db9f1d7155bc5fbce": {
     "model_module": "@jupyter-widgets/controls",
     "model_module_version": "1.5.0",
     "model_name": "DescriptionStyleModel",
     "state": {
      "_model_module": "@jupyter-widgets/controls",
      "_model_module_version": "1.5.0",
      "_model_name": "DescriptionStyleModel",
      "_view_count": null,
      "_view_module": "@jupyter-widgets/base",
      "_view_module_version": "1.2.0",
      "_view_name": "StyleView",
      "description_width": ""
     }
    },
    "c0b9e02c094a4291a792267ab0bcc0eb": {
     "model_module": "@jupyter-widgets/controls",
     "model_module_version": "1.5.0",
     "model_name": "HTMLModel",
     "state": {
      "_dom_classes": [],
      "_model_module": "@jupyter-widgets/controls",
      "_model_module_version": "1.5.0",
      "_model_name": "HTMLModel",
      "_view_count": null,
      "_view_module": "@jupyter-widgets/controls",
      "_view_module_version": "1.5.0",
      "_view_name": "HTMLView",
      "description": "",
      "description_tooltip": null,
      "layout": "IPY_MODEL_0489415d24fe4618abb67d22a89fe8c2",
      "placeholder": "​",
      "style": "IPY_MODEL_c1ca6867ccdf4ccdb0920c41031f7c00",
      "value": "100%"
     }
    },
    "c1ca6867ccdf4ccdb0920c41031f7c00": {
     "model_module": "@jupyter-widgets/controls",
     "model_module_version": "1.5.0",
     "model_name": "DescriptionStyleModel",
     "state": {
      "_model_module": "@jupyter-widgets/controls",
      "_model_module_version": "1.5.0",
      "_model_name": "DescriptionStyleModel",
      "_view_count": null,
      "_view_module": "@jupyter-widgets/base",
      "_view_module_version": "1.2.0",
      "_view_name": "StyleView",
      "description_width": ""
     }
    },
    "d1608475f265419b8cf3cb2ca34c4ae1": {
     "model_module": "@jupyter-widgets/base",
     "model_module_version": "1.2.0",
     "model_name": "LayoutModel",
     "state": {
      "_model_module": "@jupyter-widgets/base",
      "_model_module_version": "1.2.0",
      "_model_name": "LayoutModel",
      "_view_count": null,
      "_view_module": "@jupyter-widgets/base",
      "_view_module_version": "1.2.0",
      "_view_name": "LayoutView",
      "align_content": null,
      "align_items": null,
      "align_self": null,
      "border": null,
      "bottom": null,
      "display": null,
      "flex": null,
      "flex_flow": null,
      "grid_area": null,
      "grid_auto_columns": null,
      "grid_auto_flow": null,
      "grid_auto_rows": null,
      "grid_column": null,
      "grid_gap": null,
      "grid_row": null,
      "grid_template_areas": null,
      "grid_template_columns": null,
      "grid_template_rows": null,
      "height": null,
      "justify_content": null,
      "justify_items": null,
      "left": null,
      "margin": null,
      "max_height": null,
      "max_width": null,
      "min_height": null,
      "min_width": null,
      "object_fit": null,
      "object_position": null,
      "order": null,
      "overflow": null,
      "overflow_x": null,
      "overflow_y": null,
      "padding": null,
      "right": null,
      "top": null,
      "visibility": null,
      "width": null
     }
    },
    "d2d74352fe3d478b88f7e4afbc504002": {
     "model_module": "@jupyter-widgets/base",
     "model_module_version": "1.2.0",
     "model_name": "LayoutModel",
     "state": {
      "_model_module": "@jupyter-widgets/base",
      "_model_module_version": "1.2.0",
      "_model_name": "LayoutModel",
      "_view_count": null,
      "_view_module": "@jupyter-widgets/base",
      "_view_module_version": "1.2.0",
      "_view_name": "LayoutView",
      "align_content": null,
      "align_items": null,
      "align_self": null,
      "border": null,
      "bottom": null,
      "display": null,
      "flex": null,
      "flex_flow": null,
      "grid_area": null,
      "grid_auto_columns": null,
      "grid_auto_flow": null,
      "grid_auto_rows": null,
      "grid_column": null,
      "grid_gap": null,
      "grid_row": null,
      "grid_template_areas": null,
      "grid_template_columns": null,
      "grid_template_rows": null,
      "height": null,
      "justify_content": null,
      "justify_items": null,
      "left": null,
      "margin": null,
      "max_height": null,
      "max_width": null,
      "min_height": null,
      "min_width": null,
      "object_fit": null,
      "object_position": null,
      "order": null,
      "overflow": null,
      "overflow_x": null,
      "overflow_y": null,
      "padding": null,
      "right": null,
      "top": null,
      "visibility": null,
      "width": null
     }
    },
    "d306785570684f829a7a18e0e41d1199": {
     "model_module": "@jupyter-widgets/base",
     "model_module_version": "1.2.0",
     "model_name": "LayoutModel",
     "state": {
      "_model_module": "@jupyter-widgets/base",
      "_model_module_version": "1.2.0",
      "_model_name": "LayoutModel",
      "_view_count": null,
      "_view_module": "@jupyter-widgets/base",
      "_view_module_version": "1.2.0",
      "_view_name": "LayoutView",
      "align_content": null,
      "align_items": null,
      "align_self": null,
      "border": null,
      "bottom": null,
      "display": null,
      "flex": null,
      "flex_flow": null,
      "grid_area": null,
      "grid_auto_columns": null,
      "grid_auto_flow": null,
      "grid_auto_rows": null,
      "grid_column": null,
      "grid_gap": null,
      "grid_row": null,
      "grid_template_areas": null,
      "grid_template_columns": null,
      "grid_template_rows": null,
      "height": null,
      "justify_content": null,
      "justify_items": null,
      "left": null,
      "margin": null,
      "max_height": null,
      "max_width": null,
      "min_height": null,
      "min_width": null,
      "object_fit": null,
      "object_position": null,
      "order": null,
      "overflow": null,
      "overflow_x": null,
      "overflow_y": null,
      "padding": null,
      "right": null,
      "top": null,
      "visibility": null,
      "width": null
     }
    },
    "ded5d6b0843545efaacd4802495c284f": {
     "model_module": "@jupyter-widgets/controls",
     "model_module_version": "1.5.0",
     "model_name": "HTMLModel",
     "state": {
      "_dom_classes": [],
      "_model_module": "@jupyter-widgets/controls",
      "_model_module_version": "1.5.0",
      "_model_name": "HTMLModel",
      "_view_count": null,
      "_view_module": "@jupyter-widgets/controls",
      "_view_module_version": "1.5.0",
      "_view_name": "HTMLView",
      "description": "",
      "description_tooltip": null,
      "layout": "IPY_MODEL_a500f2646b794477bc7f7fb164a2b716",
      "placeholder": "​",
      "style": "IPY_MODEL_8e140e0d2df040bebb8915f8a2c8f1e7",
      "value": " 29515/29515 [00:00&lt;00:00, 194570.17it/s]"
     }
    },
    "e11527fa727e4ac392e52b2eb2a27992": {
     "model_module": "@jupyter-widgets/controls",
     "model_module_version": "1.5.0",
     "model_name": "ProgressStyleModel",
     "state": {
      "_model_module": "@jupyter-widgets/controls",
      "_model_module_version": "1.5.0",
      "_model_name": "ProgressStyleModel",
      "_view_count": null,
      "_view_module": "@jupyter-widgets/base",
      "_view_module_version": "1.2.0",
      "_view_name": "StyleView",
      "bar_color": null,
      "description_width": ""
     }
    },
    "e6dbb9d3a30a4c47b2ff5cf7af17b5bc": {
     "model_module": "@jupyter-widgets/controls",
     "model_module_version": "1.5.0",
     "model_name": "DescriptionStyleModel",
     "state": {
      "_model_module": "@jupyter-widgets/controls",
      "_model_module_version": "1.5.0",
      "_model_name": "DescriptionStyleModel",
      "_view_count": null,
      "_view_module": "@jupyter-widgets/base",
      "_view_module_version": "1.2.0",
      "_view_name": "StyleView",
      "description_width": ""
     }
    },
    "e80b8ef1a4e343e68e85c3f3ffb05f97": {
     "model_module": "@jupyter-widgets/base",
     "model_module_version": "1.2.0",
     "model_name": "LayoutModel",
     "state": {
      "_model_module": "@jupyter-widgets/base",
      "_model_module_version": "1.2.0",
      "_model_name": "LayoutModel",
      "_view_count": null,
      "_view_module": "@jupyter-widgets/base",
      "_view_module_version": "1.2.0",
      "_view_name": "LayoutView",
      "align_content": null,
      "align_items": null,
      "align_self": null,
      "border": null,
      "bottom": null,
      "display": null,
      "flex": null,
      "flex_flow": null,
      "grid_area": null,
      "grid_auto_columns": null,
      "grid_auto_flow": null,
      "grid_auto_rows": null,
      "grid_column": null,
      "grid_gap": null,
      "grid_row": null,
      "grid_template_areas": null,
      "grid_template_columns": null,
      "grid_template_rows": null,
      "height": null,
      "justify_content": null,
      "justify_items": null,
      "left": null,
      "margin": null,
      "max_height": null,
      "max_width": null,
      "min_height": null,
      "min_width": null,
      "object_fit": null,
      "object_position": null,
      "order": null,
      "overflow": null,
      "overflow_x": null,
      "overflow_y": null,
      "padding": null,
      "right": null,
      "top": null,
      "visibility": null,
      "width": null
     }
    },
    "ead7a95ed55f4a6ebff997b0bde60f15": {
     "model_module": "@jupyter-widgets/base",
     "model_module_version": "1.2.0",
     "model_name": "LayoutModel",
     "state": {
      "_model_module": "@jupyter-widgets/base",
      "_model_module_version": "1.2.0",
      "_model_name": "LayoutModel",
      "_view_count": null,
      "_view_module": "@jupyter-widgets/base",
      "_view_module_version": "1.2.0",
      "_view_name": "LayoutView",
      "align_content": null,
      "align_items": null,
      "align_self": null,
      "border": null,
      "bottom": null,
      "display": null,
      "flex": null,
      "flex_flow": null,
      "grid_area": null,
      "grid_auto_columns": null,
      "grid_auto_flow": null,
      "grid_auto_rows": null,
      "grid_column": null,
      "grid_gap": null,
      "grid_row": null,
      "grid_template_areas": null,
      "grid_template_columns": null,
      "grid_template_rows": null,
      "height": null,
      "justify_content": null,
      "justify_items": null,
      "left": null,
      "margin": null,
      "max_height": null,
      "max_width": null,
      "min_height": null,
      "min_width": null,
      "object_fit": null,
      "object_position": null,
      "order": null,
      "overflow": null,
      "overflow_x": null,
      "overflow_y": null,
      "padding": null,
      "right": null,
      "top": null,
      "visibility": null,
      "width": null
     }
    },
    "f05a71d60b414981a3284d95ad31fba9": {
     "model_module": "@jupyter-widgets/controls",
     "model_module_version": "1.5.0",
     "model_name": "DescriptionStyleModel",
     "state": {
      "_model_module": "@jupyter-widgets/controls",
      "_model_module_version": "1.5.0",
      "_model_name": "DescriptionStyleModel",
      "_view_count": null,
      "_view_module": "@jupyter-widgets/base",
      "_view_module_version": "1.2.0",
      "_view_name": "StyleView",
      "description_width": ""
     }
    },
    "fd0859680dce402ca6074a609b6cf515": {
     "model_module": "@jupyter-widgets/base",
     "model_module_version": "1.2.0",
     "model_name": "LayoutModel",
     "state": {
      "_model_module": "@jupyter-widgets/base",
      "_model_module_version": "1.2.0",
      "_model_name": "LayoutModel",
      "_view_count": null,
      "_view_module": "@jupyter-widgets/base",
      "_view_module_version": "1.2.0",
      "_view_name": "LayoutView",
      "align_content": null,
      "align_items": null,
      "align_self": null,
      "border": null,
      "bottom": null,
      "display": null,
      "flex": null,
      "flex_flow": null,
      "grid_area": null,
      "grid_auto_columns": null,
      "grid_auto_flow": null,
      "grid_auto_rows": null,
      "grid_column": null,
      "grid_gap": null,
      "grid_row": null,
      "grid_template_areas": null,
      "grid_template_columns": null,
      "grid_template_rows": null,
      "height": null,
      "justify_content": null,
      "justify_items": null,
      "left": null,
      "margin": null,
      "max_height": null,
      "max_width": null,
      "min_height": null,
      "min_width": null,
      "object_fit": null,
      "object_position": null,
      "order": null,
      "overflow": null,
      "overflow_x": null,
      "overflow_y": null,
      "padding": null,
      "right": null,
      "top": null,
      "visibility": null,
      "width": null
     }
    },
    "fd76c99a5f8c4f76afbcfc4769692067": {
     "model_module": "@jupyter-widgets/controls",
     "model_module_version": "1.5.0",
     "model_name": "ProgressStyleModel",
     "state": {
      "_model_module": "@jupyter-widgets/controls",
      "_model_module_version": "1.5.0",
      "_model_name": "ProgressStyleModel",
      "_view_count": null,
      "_view_module": "@jupyter-widgets/base",
      "_view_module_version": "1.2.0",
      "_view_name": "StyleView",
      "bar_color": null,
      "description_width": ""
     }
    },
    "ff5c17b13db944c1a13dc969048bc3de": {
     "model_module": "@jupyter-widgets/controls",
     "model_module_version": "1.5.0",
     "model_name": "FloatProgressModel",
     "state": {
      "_dom_classes": [],
      "_model_module": "@jupyter-widgets/controls",
      "_model_module_version": "1.5.0",
      "_model_name": "FloatProgressModel",
      "_view_count": null,
      "_view_module": "@jupyter-widgets/controls",
      "_view_module_version": "1.5.0",
      "_view_name": "ProgressView",
      "bar_style": "success",
      "description": "",
      "description_tooltip": null,
      "layout": "IPY_MODEL_e80b8ef1a4e343e68e85c3f3ffb05f97",
      "max": 4422102,
      "min": 0,
      "orientation": "horizontal",
      "style": "IPY_MODEL_e11527fa727e4ac392e52b2eb2a27992",
      "value": 4422102
     }
    }
   }
  }
 },
 "nbformat": 4,
 "nbformat_minor": 1
}
